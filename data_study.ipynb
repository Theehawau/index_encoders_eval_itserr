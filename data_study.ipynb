{
 "cells": [
  {
   "cell_type": "code",
   "execution_count": 1,
   "id": "fc135174",
   "metadata": {},
   "outputs": [
    {
     "name": "stderr",
     "output_type": "stream",
     "text": [
      "/home/gpucce/Repos/index_encoders_eval_itserr/conda_venv/lib/python3.10/site-packages/tqdm/auto.py:21: TqdmWarning: IProgress not found. Please update jupyter and ipywidgets. See https://ipywidgets.readthedocs.io/en/stable/user_install.html\n",
      "  from .autonotebook import tqdm as notebook_tqdm\n"
     ]
    }
   ],
   "source": [
    "import re\n",
    "import os\n",
    "import unicodedata\n",
    "import evaluate\n",
    "import pandas as pd\n",
    "import itertools\n",
    "\n",
    "import numpy as np\n",
    "import torch\n",
    "from transformers import (\n",
    "    AutoTokenizer,\n",
    "    BertTokenizer,\n",
    "    AutoModelForSeq2SeqLM,\n",
    "    AutoModelForMaskedLM,\n",
    "    AutoModel,\n",
    "    BertForMaskedLM\n",
    ")\n",
    "from sentence_transformers import SentenceTransformer, models\n",
    "\n",
    "from tqdm.auto import tqdm"
   ]
  },
  {
   "cell_type": "code",
   "execution_count": 2,
   "id": "17daf6ad",
   "metadata": {},
   "outputs": [],
   "source": [
    "def batched(iterable, n=1):\n",
    "    l = len(iterable)\n",
    "    for ndx in range(0, l, n):\n",
    "        yield iterable[ndx:min(ndx + n, l)]"
   ]
  },
  {
   "cell_type": "code",
   "execution_count": 3,
   "id": "3e46de49",
   "metadata": {},
   "outputs": [],
   "source": [
    "def normalize_text(text):\n",
    "    # Rimuovere caratteri invisibili come spazi non separabili\n",
    "    text = text.replace('\\xa0', ' ')  # Sostituire \\xa0 con uno spazio\n",
    "    # Normalizzazione Unicode\n",
    "    text = unicodedata.normalize('NFKC', text)\n",
    "    # Rimuovere eventuali spazi extra all'inizio e alla fine\n",
    "    text = text.strip()\n",
    "    # Rimuovere caratteri invisibili come nuove righe e tabulazioni\n",
    "    text = re.sub(r'\\s+', ' ', text)  # Sostituire sequenze di spazi con un singolo spazio\n",
    "    return text\n",
    "\n",
    "def load_data(lang, split, setting):\n",
    "    assert setting in [\"target\", \"target+random\"]\n",
    "    possible_langs = [\"latin\", \"greek\", \"latin+greek\", \"greek+latin\"]\n",
    "    if lang == \"latin\":\n",
    "        with open(\"data/latin_random_sentences.txt\", \"r\") as f:\n",
    "            random_1k = f.readlines()\n",
    "        if split == \"silver\":\n",
    "            qnr_df = pd.read_csv('data/Latin_benchmark.txt', sep=\"\\t\")\n",
    "        elif split == \"gold\":\n",
    "            qnr_df = pd.read_csv('data/Latin_benchmark_parallel.txt', sep=\"\\t\")\n",
    "    elif lang == \"greek\":\n",
    "        with open(\"data/greek_random_sentences.txt\", \"r\") as f:\n",
    "            random_1k = f.readlines()\n",
    "        if split == \"silver\":\n",
    "            qnr_df = pd.read_csv('data/Greek_benchmark.txt', sep=\"\\t\")\n",
    "        elif split == \"gold\":\n",
    "            qnr_df = pd.read_csv('data/Greek_benchmark_parallel.txt', sep=\"\\t\")\n",
    "    elif lang in [\"latin+greek\", \"greek+latin\"]:\n",
    "        if split == \"silver\":\n",
    "            qnr_df_greek = pd.read_csv('data/Greek_benchmark.txt', sep=\"\\t\")\n",
    "            qnr_df_latin = pd.read_csv('data/Latin_benchmark.txt', sep=\"\\t\")\n",
    "        elif split == \"gold\":\n",
    "            qnr_df_greek = pd.read_csv('data/Greek_benchmark_parallel.txt', sep=\"\\t\")\n",
    "            qnr_df_latin = pd.read_csv('data/Latin_benchmark_parallel.txt', sep=\"\\t\")\n",
    "        if lang.startswith(\"latin\"):\n",
    "            with open(\"data/latin_random_sentences.txt\", \"r\") as f:\n",
    "                random_1k = f.readlines()\n",
    "            qnr_df = pd.concat(\n",
    "                [qnr_df_greek.loc[:, [\"Query\"]], qnr_df_latin.loc[:, [f\"Target #{i}\" for i in range(1,6)]]], axis=1)\n",
    "        elif lang.startswith(\"greek\"):\n",
    "            with open(\"data/greek_random_sentences.txt\", \"r\") as f:\n",
    "                random_1k = f.readlines()\n",
    "            qnr_df = pd.concat(\n",
    "                [qnr_df_latin.loc[:, [\"Query\"]], qnr_df_greek.loc[:, [f\"Target #{i}\" for i in range(1,6)]]], axis=1)\n",
    "    else:\n",
    "        raise ValueError(f\"Invalid language setting. Choose from {possible_langs}.\")\n",
    "\n",
    "\n",
    "    future_df = []\n",
    "    data_pool = []\n",
    "    name_pool = []\n",
    "    queries = qnr_df[\"Query\"].tolist()\n",
    "    # targets = qnr_df[\"target\"].tolist()\n",
    "    for idx, query in enumerate(queries):\n",
    "        for jdx, targets in enumerate(qnr_df[[f\"Target #{i}\" for i in range(1, 6)]].values.tolist()):\n",
    "            if setting == \"target+random\" and jdx != idx:\n",
    "                continue\n",
    "            for tdx, target in enumerate(targets):\n",
    "                newrow = {}\n",
    "                item_name = f\"{jdx}_{tdx}_target\"\n",
    "                newrow[\"query\"] = idx\n",
    "                newrow[\"q0\"] = 0\n",
    "                newrow[\"docid\"] = item_name\n",
    "                newrow[\"rel\"] = 1 if jdx == idx else 0\n",
    "                future_df.append(newrow)\n",
    "                if (setting == \"target\" and idx == 0) or setting == \"target+random\":\n",
    "                    data_pool.append(normalize_text(target))\n",
    "                    name_pool.append(item_name)\n",
    "\n",
    "        if setting == \"target+random\":\n",
    "            for jdx, text in enumerate(random_1k):\n",
    "                item_name = f\"{jdx}_random\"\n",
    "                newrow = {}\n",
    "                newrow[\"query\"] = idx\n",
    "                newrow[\"q0\"] = 0\n",
    "                newrow[\"docid\"] = item_name\n",
    "                newrow[\"rel\"] = 0\n",
    "                future_df.append(newrow)\n",
    "                if idx == 0:\n",
    "                    # Aggiungi le frasi casuali solo per il primo query\n",
    "                    data_pool.append(normalize_text(text.strip()))\n",
    "                    name_pool.append(item_name)\n",
    "\n",
    "    future_df = [{\"system\": f\"{lang}_{split}_{setting}\", **row} for row in future_df]\n",
    "    df = pd.DataFrame(future_df)\n",
    "\n",
    "    return queries, data_pool, df, name_pool\n"
   ]
  },
  {
   "cell_type": "code",
   "execution_count": 4,
   "id": "4c89cd1f",
   "metadata": {},
   "outputs": [],
   "source": [
    "def get_model(model_type, model_name, device=None):\n",
    "    if device is None:\n",
    "        device = \"cuda\" if torch.cuda.is_available() else \"cpu\"\n",
    "\n",
    "    #load tokenizer and model\n",
    "    if model_type == \"roberta\":\n",
    "        tokenizer = AutoTokenizer.from_pretrained(model_name)\n",
    "        model = AutoModel.from_pretrained(model_name).to(device)\n",
    "\n",
    "    elif model_type == \"sentence-transformers\":\n",
    "        model = SentenceTransformer(model_name).to(device)\n",
    "        tokenizer = None\n",
    "\n",
    "    elif model_type == \"bert\":\n",
    "        tokenizer = BertTokenizer.from_pretrained(model_name)\n",
    "        model = BertForMaskedLM.from_pretrained(model_name).to(device)\n",
    "\n",
    "    elif model_type == \"t5\":\n",
    "        tokenizer = AutoTokenizer.from_pretrained(model_name)\n",
    "        model = AutoModelForSeq2SeqLM.from_pretrained(model_name).get_encoder().to(device)\n",
    "    return model, tokenizer\n"
   ]
  },
  {
   "cell_type": "code",
   "execution_count": 5,
   "id": "d18a79d8",
   "metadata": {},
   "outputs": [],
   "source": [
    "def encode(model, tokenizer, texts, model_type, pooling_type=\"cls\"):\n",
    "    assert pooling_type in [\"cls\", \"mean\"]\n",
    "    out = []\n",
    "    for text_batch in tqdm(batched(texts, n=32), total=int(len(texts) / 32) + 1, desc=\"Encoding texts\"):\n",
    "        with torch.no_grad():\n",
    "            if model_type == \"sentence-transformers\":\n",
    "                embeddings = model.encode(text_batch)\n",
    "\n",
    "            elif model_type == \"roberta\":\n",
    "                batch = tokenizer(\n",
    "                    text_batch,\n",
    "                    padding=True,\n",
    "                    truncation=True,\n",
    "                    return_tensors=\"pt\",\n",
    "                    max_length=512,\n",
    "                ).to(model.device)\n",
    "                # For models like BERT, RoBERTa, T5, etc.\n",
    "                batch = {k: v.to(model.device) for k, v in batch.items()}\n",
    "                if pooling_type == \"cls\":\n",
    "                    outputs = model(**batch, output_hidden_states=True)\n",
    "                    embeddings = outputs.hidden_states[-1][:, 0, :].cpu().numpy()  # Use the last hidden state of the CLS token\n",
    "                elif pooling_type == \"mean\":\n",
    "                    outputs = model(**batch, output_hidden_states=True)\n",
    "                    def mean_pooling(model_output, attention_mask):\n",
    "                        token_embeddings = model_output.hidden_states[-1] #First element of model_output contains all token embeddings\n",
    "                        input_mask_expanded = attention_mask.unsqueeze(-1).expand(token_embeddings.size()).float()\n",
    "                        return torch.sum(token_embeddings * input_mask_expanded, 1) / torch.clamp(input_mask_expanded.sum(1), min=1e-9)\n",
    "                    embeddings = mean_pooling(outputs, batch['attention_mask']).cpu().numpy()\n",
    "                    # Use the mean of the last hidden states\n",
    "                    # embeddings = outputs.hidden_states[-1].mean(dim=1).cpu().numpy()\n",
    "\n",
    "                else:\n",
    "                    raise ValueError(f\"Pooling type {pooling_type} not recognized, must be one of 'cls', 'mean'.\")\n",
    "                # Use the first token (CLS token) for classification tasks\n",
    "        out.append(embeddings)\n",
    "    embeddings = np.concatenate(out, axis=0)\n",
    "    return embeddings"
   ]
  },
  {
   "cell_type": "code",
   "execution_count": 6,
   "id": "8a1ac351",
   "metadata": {},
   "outputs": [],
   "source": [
    "def compute_cosine_similarity(a, b):\n",
    "    a = a / np.linalg.norm(a, axis=1, keepdims=True)\n",
    "    b = b / np.linalg.norm(b, axis=1, keepdims=True)\n",
    "    similarity_score = np.dot(a, b.T)\n",
    "    return similarity_score"
   ]
  },
  {
   "cell_type": "code",
   "execution_count": 7,
   "id": "1a647dac",
   "metadata": {},
   "outputs": [],
   "source": [
    "def prepare_df(df, name_pool, query_pool_similarity, model_args):\n",
    "    df[\"q0\"] = df[\"q0\"].astype(str)\n",
    "    newdf = df.copy()\n",
    "    df = df.drop(\"system\", axis=1)\n",
    "\n",
    "    newdf[\"system\"] = newdf[\"system\"].astype(str) + (\"_\" + model_args[\"model_name\"].replace(\"/\", \"_\"))\n",
    "    newdf[\"score\"] = [query_pool_similarity[row[\"query\"], name_pool.index(row[\"docid\"])] for _, row in newdf.iterrows()]\n",
    "    newdf[\"score\"] = newdf[\"score\"].astype(\"Float32\")\n",
    "    newdf[\"rank\"] = newdf[\"score\"].rank(method=\"first\", ascending=False).astype(int) - 1\n",
    "    if \"rel\" in newdf.columns:\n",
    "        newdf = newdf.drop(\"rel\", axis=1)\n",
    "\n",
    "    newdf = newdf.sort_values(by=[\"query\", \"rank\"]).reset_index(drop=True)\n",
    "    newdf = newdf.loc[:, [i for i in newdf.columns if i != \"system\"] + [\"system\"]]\n",
    "    return df, newdf"
   ]
  },
  {
   "cell_type": "code",
   "execution_count": 8,
   "id": "372252a6",
   "metadata": {},
   "outputs": [],
   "source": [
    "def run_experiments(experiments):\n",
    "    predictions = []\n",
    "    references = []\n",
    "    for lang, split, setting, model_args in tqdm(experiments):\n",
    "        print(f\"Running experiment for {lang} {split} {setting} with model {model_args['model_name']}\")\n",
    "        queries, data_pool, df, name_pool = load_data(lang, split, setting=setting)\n",
    "\n",
    "        # check data format\n",
    "        if split == \"silver\":\n",
    "            if setting == \"target+random\":\n",
    "                assert len(queries) == 100\n",
    "                assert len(data_pool) == 1500, f\"{len(data_pool)}\"\n",
    "            elif setting == \"target\":\n",
    "                assert len(queries) == 100\n",
    "                assert len(data_pool) == 500, f\"{len(data_pool)}\"\n",
    "        elif split == \"gold\":\n",
    "            if setting == \"target+random\":\n",
    "                assert len(queries) == 20\n",
    "                assert len(data_pool) == 1100, f\"{len(data_pool)}\"\n",
    "            elif setting == \"target\":\n",
    "                assert len(queries) == 20\n",
    "                assert len(data_pool) == 100, f\"{len(data_pool)}\"\n",
    "\n",
    "        model, tokenizer = get_model(device=\"cuda:2\", **model_args)\n",
    "\n",
    "        pooling_type = \"cls\" if model_args[\"model_name\"] in [\"bowphs/GreBerta\", \"bowphs/LaBerta\"] else \"mean\"\n",
    "        # pooling_type = \"cls\"\n",
    "        encoded_queries = encode(model, tokenizer, queries, model_type=model_args[\"model_type\"], pooling_type=pooling_type)\n",
    "        encoded_pool = encode(model, tokenizer, data_pool, model_type=model_args[\"model_type\"], pooling_type=pooling_type)\n",
    "        query_pool_similarity = compute_cosine_similarity(encoded_queries, encoded_pool)\n",
    "        assert query_pool_similarity.shape == (len(queries), len(data_pool)), f\"{query_pool_similarity.shape} != {(len(queries), len(data_pool))}\"\n",
    "\n",
    "        df, newdf = prepare_df(df, name_pool, query_pool_similarity, model_args)\n",
    "\n",
    "        os.makedirs(\"qrels\", exist_ok=True)\n",
    "        os.makedirs(\"runs\", exist_ok=True)\n",
    "        df.to_csv(f\"qrels/{lang}_{split}_{setting}_{model_args['model_name'].replace('/', '_')}.tsv\", sep=\"\\t\", index=False)\n",
    "        newdf.to_csv(f\"runs/{lang}_{split}_{setting}_{model_args['model_name'].replace('/', '_')}_run.tsv\", sep=\"\\t\", index=False)\n",
    "        qrel = df.to_dict(orient=\"list\")\n",
    "        run = newdf.to_dict(orient=\"list\")\n",
    "\n",
    "        # metric.add(predictions=run, references=qrel)\n",
    "        predictions.append(run)\n",
    "        references.append(qrel)\n",
    "    return predictions, references\n",
    "\n"
   ]
  },
  {
   "cell_type": "code",
   "execution_count": 9,
   "id": "6fec93c2",
   "metadata": {},
   "outputs": [
    {
     "name": "stderr",
     "output_type": "stream",
     "text": [
      "  0%|          | 0/64 [00:00<?, ?it/s]"
     ]
    },
    {
     "name": "stdout",
     "output_type": "stream",
     "text": [
      "Running experiment for latin silver target with model bowphs/GreBerta\n"
     ]
    },
    {
     "name": "stderr",
     "output_type": "stream",
     "text": [
      "Some weights of RobertaModel were not initialized from the model checkpoint at bowphs/GreBerta and are newly initialized: ['pooler.dense.bias', 'pooler.dense.weight']\n",
      "You should probably TRAIN this model on a down-stream task to be able to use it for predictions and inference.\n",
      "Encoding texts: 100%|██████████| 4/4 [00:01<00:00,  2.37it/s]\n",
      "Encoding texts: 100%|██████████| 16/16 [00:07<00:00,  2.21it/s]\n",
      "  2%|▏         | 1/64 [00:17<17:51, 17.01s/it]"
     ]
    },
    {
     "name": "stdout",
     "output_type": "stream",
     "text": [
      "Running experiment for latin silver target with model bowphs/LaBerta\n"
     ]
    },
    {
     "name": "stderr",
     "output_type": "stream",
     "text": [
      "Some weights of RobertaModel were not initialized from the model checkpoint at bowphs/LaBerta and are newly initialized: ['pooler.dense.bias', 'pooler.dense.weight']\n",
      "You should probably TRAIN this model on a down-stream task to be able to use it for predictions and inference.\n",
      "Encoding texts: 100%|██████████| 4/4 [00:00<00:00,  5.54it/s]\n",
      "Encoding texts: 100%|██████████| 16/16 [00:04<00:00,  3.63it/s]\n",
      "  3%|▎         | 2/64 [00:28<14:21, 13.89s/it]"
     ]
    },
    {
     "name": "stdout",
     "output_type": "stream",
     "text": [
      "Running experiment for latin silver target with model bowphs/PhilBERTa\n"
     ]
    },
    {
     "name": "stderr",
     "output_type": "stream",
     "text": [
      "Some weights of RobertaModel were not initialized from the model checkpoint at bowphs/PhilBERTa and are newly initialized: ['pooler.dense.bias', 'pooler.dense.weight']\n",
      "You should probably TRAIN this model on a down-stream task to be able to use it for predictions and inference.\n",
      "Encoding texts: 100%|██████████| 4/4 [00:00<00:00,  5.13it/s]\n",
      "Encoding texts: 100%|██████████| 16/16 [00:04<00:00,  3.64it/s]\n",
      "  5%|▍         | 3/64 [00:41<13:25, 13.21s/it]"
     ]
    },
    {
     "name": "stdout",
     "output_type": "stream",
     "text": [
      "Running experiment for latin silver target with model bowphs/SPhilBERTa\n"
     ]
    },
    {
     "name": "stderr",
     "output_type": "stream",
     "text": [
      "Encoding texts: 100%|██████████| 4/4 [00:00<00:00,  5.12it/s]\n",
      "Encoding texts: 100%|██████████| 16/16 [00:04<00:00,  3.72it/s]\n",
      "  6%|▋         | 4/64 [00:53<12:44, 12.74s/it]"
     ]
    },
    {
     "name": "stdout",
     "output_type": "stream",
     "text": [
      "Running experiment for latin silver target+random with model bowphs/GreBerta\n"
     ]
    },
    {
     "name": "stderr",
     "output_type": "stream",
     "text": [
      "Some weights of RobertaModel were not initialized from the model checkpoint at bowphs/GreBerta and are newly initialized: ['pooler.dense.bias', 'pooler.dense.weight']\n",
      "You should probably TRAIN this model on a down-stream task to be able to use it for predictions and inference.\n",
      "Encoding texts: 100%|██████████| 4/4 [00:01<00:00,  3.32it/s]\n",
      "Encoding texts: 100%|██████████| 47/47 [01:07<00:00,  1.44s/it]\n",
      "  8%|▊         | 5/64 [02:12<36:08, 36.75s/it]"
     ]
    },
    {
     "name": "stdout",
     "output_type": "stream",
     "text": [
      "Running experiment for latin silver target+random with model bowphs/LaBerta\n"
     ]
    },
    {
     "name": "stderr",
     "output_type": "stream",
     "text": [
      "Some weights of RobertaModel were not initialized from the model checkpoint at bowphs/LaBerta and are newly initialized: ['pooler.dense.bias', 'pooler.dense.weight']\n",
      "You should probably TRAIN this model on a down-stream task to be able to use it for predictions and inference.\n",
      "Encoding texts: 100%|██████████| 4/4 [00:00<00:00,  5.13it/s]\n",
      "Encoding texts: 100%|██████████| 47/47 [01:03<00:00,  1.35s/it]\n",
      "  9%|▉         | 6/64 [03:25<47:27, 49.10s/it]"
     ]
    },
    {
     "name": "stdout",
     "output_type": "stream",
     "text": [
      "Running experiment for latin silver target+random with model bowphs/PhilBERTa\n"
     ]
    },
    {
     "name": "stderr",
     "output_type": "stream",
     "text": [
      "Some weights of RobertaModel were not initialized from the model checkpoint at bowphs/PhilBERTa and are newly initialized: ['pooler.dense.bias', 'pooler.dense.weight']\n",
      "You should probably TRAIN this model on a down-stream task to be able to use it for predictions and inference.\n",
      "Encoding texts: 100%|██████████| 4/4 [00:00<00:00,  5.55it/s]\n",
      "Encoding texts: 100%|██████████| 47/47 [01:03<00:00,  1.35s/it]\n",
      " 11%|█         | 7/64 [04:41<55:01, 57.93s/it]"
     ]
    },
    {
     "name": "stdout",
     "output_type": "stream",
     "text": [
      "Running experiment for latin silver target+random with model bowphs/SPhilBERTa\n"
     ]
    },
    {
     "name": "stderr",
     "output_type": "stream",
     "text": [
      "Encoding texts: 100%|██████████| 4/4 [00:00<00:00,  5.28it/s]\n",
      "Encoding texts: 100%|██████████| 47/47 [01:03<00:00,  1.35s/it]\n",
      " 12%|█▎        | 8/64 [05:56<59:08, 63.36s/it]"
     ]
    },
    {
     "name": "stdout",
     "output_type": "stream",
     "text": [
      "Running experiment for latin gold target with model bowphs/GreBerta\n"
     ]
    },
    {
     "name": "stderr",
     "output_type": "stream",
     "text": [
      "Some weights of RobertaModel were not initialized from the model checkpoint at bowphs/GreBerta and are newly initialized: ['pooler.dense.bias', 'pooler.dense.weight']\n",
      "You should probably TRAIN this model on a down-stream task to be able to use it for predictions and inference.\n",
      "Encoding texts: 100%|██████████| 1/1 [00:00<00:00,  2.48it/s]\n",
      "Encoding texts: 100%|██████████| 4/4 [00:03<00:00,  1.27it/s]\n",
      " 14%|█▍        | 9/64 [06:03<41:45, 45.56s/it]"
     ]
    },
    {
     "name": "stdout",
     "output_type": "stream",
     "text": [
      "Running experiment for latin gold target with model bowphs/LaBerta\n"
     ]
    },
    {
     "name": "stderr",
     "output_type": "stream",
     "text": [
      "Some weights of RobertaModel were not initialized from the model checkpoint at bowphs/LaBerta and are newly initialized: ['pooler.dense.bias', 'pooler.dense.weight']\n",
      "You should probably TRAIN this model on a down-stream task to be able to use it for predictions and inference.\n",
      "Encoding texts: 100%|██████████| 1/1 [00:00<00:00,  4.04it/s]\n",
      "Encoding texts: 100%|██████████| 4/4 [00:01<00:00,  2.25it/s]\n",
      " 16%|█▌        | 10/64 [06:07<29:42, 33.01s/it]"
     ]
    },
    {
     "name": "stdout",
     "output_type": "stream",
     "text": [
      "Running experiment for latin gold target with model bowphs/PhilBERTa\n"
     ]
    },
    {
     "name": "stderr",
     "output_type": "stream",
     "text": [
      "Some weights of RobertaModel were not initialized from the model checkpoint at bowphs/PhilBERTa and are newly initialized: ['pooler.dense.bias', 'pooler.dense.weight']\n",
      "You should probably TRAIN this model on a down-stream task to be able to use it for predictions and inference.\n",
      "Encoding texts: 100%|██████████| 1/1 [00:00<00:00,  4.41it/s]\n",
      "Encoding texts: 100%|██████████| 4/4 [00:01<00:00,  2.14it/s]\n",
      " 17%|█▋        | 11/64 [06:13<21:38, 24.51s/it]"
     ]
    },
    {
     "name": "stdout",
     "output_type": "stream",
     "text": [
      "Running experiment for latin gold target with model bowphs/SPhilBERTa\n"
     ]
    },
    {
     "name": "stderr",
     "output_type": "stream",
     "text": [
      "Encoding texts: 100%|██████████| 1/1 [00:00<00:00,  3.69it/s]\n",
      "Encoding texts: 100%|██████████| 4/4 [00:01<00:00,  2.17it/s]\n",
      " 19%|█▉        | 12/64 [06:18<16:12, 18.70s/it]"
     ]
    },
    {
     "name": "stdout",
     "output_type": "stream",
     "text": [
      "Running experiment for latin gold target+random with model bowphs/GreBerta\n"
     ]
    },
    {
     "name": "stderr",
     "output_type": "stream",
     "text": [
      "Some weights of RobertaModel were not initialized from the model checkpoint at bowphs/GreBerta and are newly initialized: ['pooler.dense.bias', 'pooler.dense.weight']\n",
      "You should probably TRAIN this model on a down-stream task to be able to use it for predictions and inference.\n",
      "Encoding texts: 100%|██████████| 1/1 [00:00<00:00,  2.51it/s]\n",
      "Encoding texts: 100%|██████████| 35/35 [01:02<00:00,  1.78s/it]\n",
      " 20%|██        | 13/64 [07:25<28:17, 33.28s/it]"
     ]
    },
    {
     "name": "stdout",
     "output_type": "stream",
     "text": [
      "Running experiment for latin gold target+random with model bowphs/LaBerta\n"
     ]
    },
    {
     "name": "stderr",
     "output_type": "stream",
     "text": [
      "Some weights of RobertaModel were not initialized from the model checkpoint at bowphs/LaBerta and are newly initialized: ['pooler.dense.bias', 'pooler.dense.weight']\n",
      "You should probably TRAIN this model on a down-stream task to be able to use it for predictions and inference.\n",
      "Encoding texts: 100%|██████████| 1/1 [00:00<00:00,  4.10it/s]\n",
      "Encoding texts: 100%|██████████| 35/35 [01:01<00:00,  1.76s/it]\n",
      " 22%|██▏       | 14/64 [08:32<36:07, 43.34s/it]"
     ]
    },
    {
     "name": "stdout",
     "output_type": "stream",
     "text": [
      "Running experiment for latin gold target+random with model bowphs/PhilBERTa\n"
     ]
    },
    {
     "name": "stderr",
     "output_type": "stream",
     "text": [
      "Some weights of RobertaModel were not initialized from the model checkpoint at bowphs/PhilBERTa and are newly initialized: ['pooler.dense.bias', 'pooler.dense.weight']\n",
      "You should probably TRAIN this model on a down-stream task to be able to use it for predictions and inference.\n",
      "Encoding texts: 100%|██████████| 1/1 [00:00<00:00,  4.83it/s]\n",
      "Encoding texts: 100%|██████████| 35/35 [01:02<00:00,  1.77s/it]\n",
      " 23%|██▎       | 15/64 [09:39<41:21, 50.64s/it]"
     ]
    },
    {
     "name": "stdout",
     "output_type": "stream",
     "text": [
      "Running experiment for latin gold target+random with model bowphs/SPhilBERTa\n"
     ]
    },
    {
     "name": "stderr",
     "output_type": "stream",
     "text": [
      "Encoding texts: 100%|██████████| 1/1 [00:00<00:00,  3.82it/s]\n",
      "Encoding texts: 100%|██████████| 35/35 [01:01<00:00,  1.77s/it]\n",
      " 25%|██▌       | 16/64 [10:47<44:37, 55.78s/it]"
     ]
    },
    {
     "name": "stdout",
     "output_type": "stream",
     "text": [
      "Running experiment for greek silver target with model bowphs/GreBerta\n"
     ]
    },
    {
     "name": "stderr",
     "output_type": "stream",
     "text": [
      "Some weights of RobertaModel were not initialized from the model checkpoint at bowphs/GreBerta and are newly initialized: ['pooler.dense.bias', 'pooler.dense.weight']\n",
      "You should probably TRAIN this model on a down-stream task to be able to use it for predictions and inference.\n",
      "Encoding texts: 100%|██████████| 4/4 [00:01<00:00,  3.92it/s]\n",
      "Encoding texts: 100%|██████████| 16/16 [00:05<00:00,  2.86it/s]\n",
      " 27%|██▋       | 17/64 [11:00<33:41, 43.01s/it]"
     ]
    },
    {
     "name": "stdout",
     "output_type": "stream",
     "text": [
      "Running experiment for greek silver target with model bowphs/LaBerta\n"
     ]
    },
    {
     "name": "stderr",
     "output_type": "stream",
     "text": [
      "Some weights of RobertaModel were not initialized from the model checkpoint at bowphs/LaBerta and are newly initialized: ['pooler.dense.bias', 'pooler.dense.weight']\n",
      "You should probably TRAIN this model on a down-stream task to be able to use it for predictions and inference.\n",
      "Encoding texts: 100%|██████████| 4/4 [00:01<00:00,  2.43it/s]\n",
      "Encoding texts: 100%|██████████| 16/16 [00:09<00:00,  1.70it/s]\n",
      " 28%|██▊       | 18/64 [11:18<27:11, 35.47s/it]"
     ]
    },
    {
     "name": "stdout",
     "output_type": "stream",
     "text": [
      "Running experiment for greek silver target with model bowphs/PhilBERTa\n"
     ]
    },
    {
     "name": "stderr",
     "output_type": "stream",
     "text": [
      "Some weights of RobertaModel were not initialized from the model checkpoint at bowphs/PhilBERTa and are newly initialized: ['pooler.dense.bias', 'pooler.dense.weight']\n",
      "You should probably TRAIN this model on a down-stream task to be able to use it for predictions and inference.\n",
      "Encoding texts: 100%|██████████| 4/4 [00:01<00:00,  3.68it/s]\n",
      "Encoding texts: 100%|██████████| 16/16 [00:05<00:00,  2.82it/s]\n",
      " 30%|██▉       | 19/64 [11:32<21:48, 29.07s/it]"
     ]
    },
    {
     "name": "stdout",
     "output_type": "stream",
     "text": [
      "Running experiment for greek silver target with model bowphs/SPhilBERTa\n"
     ]
    },
    {
     "name": "stderr",
     "output_type": "stream",
     "text": [
      "Encoding texts: 100%|██████████| 4/4 [00:01<00:00,  3.88it/s]\n",
      "Encoding texts: 100%|██████████| 16/16 [00:05<00:00,  2.82it/s]\n",
      " 31%|███▏      | 20/64 [11:46<17:56, 24.45s/it]"
     ]
    },
    {
     "name": "stdout",
     "output_type": "stream",
     "text": [
      "Running experiment for greek silver target+random with model bowphs/GreBerta\n"
     ]
    },
    {
     "name": "stderr",
     "output_type": "stream",
     "text": [
      "Some weights of RobertaModel were not initialized from the model checkpoint at bowphs/GreBerta and are newly initialized: ['pooler.dense.bias', 'pooler.dense.weight']\n",
      "You should probably TRAIN this model on a down-stream task to be able to use it for predictions and inference.\n",
      "Encoding texts: 100%|██████████| 4/4 [00:00<00:00,  4.05it/s]\n",
      "Encoding texts: 100%|██████████| 47/47 [00:44<00:00,  1.06it/s]\n",
      " 33%|███▎      | 21/64 [12:42<24:21, 34.00s/it]"
     ]
    },
    {
     "name": "stdout",
     "output_type": "stream",
     "text": [
      "Running experiment for greek silver target+random with model bowphs/LaBerta\n"
     ]
    },
    {
     "name": "stderr",
     "output_type": "stream",
     "text": [
      "Some weights of RobertaModel were not initialized from the model checkpoint at bowphs/LaBerta and are newly initialized: ['pooler.dense.bias', 'pooler.dense.weight']\n",
      "You should probably TRAIN this model on a down-stream task to be able to use it for predictions and inference.\n",
      "Encoding texts: 100%|██████████| 4/4 [00:01<00:00,  2.55it/s]\n",
      "Encoding texts: 100%|██████████| 47/47 [00:58<00:00,  1.25s/it]\n",
      " 34%|███▍      | 22/64 [13:53<31:28, 44.97s/it]"
     ]
    },
    {
     "name": "stdout",
     "output_type": "stream",
     "text": [
      "Running experiment for greek silver target+random with model bowphs/PhilBERTa\n"
     ]
    },
    {
     "name": "stderr",
     "output_type": "stream",
     "text": [
      "Some weights of RobertaModel were not initialized from the model checkpoint at bowphs/PhilBERTa and are newly initialized: ['pooler.dense.bias', 'pooler.dense.weight']\n",
      "You should probably TRAIN this model on a down-stream task to be able to use it for predictions and inference.\n",
      "Encoding texts: 100%|██████████| 4/4 [00:00<00:00,  4.45it/s]\n",
      "Encoding texts: 100%|██████████| 47/47 [00:45<00:00,  1.03it/s]\n",
      " 36%|███▌      | 23/64 [14:49<32:59, 48.27s/it]"
     ]
    },
    {
     "name": "stdout",
     "output_type": "stream",
     "text": [
      "Running experiment for greek silver target+random with model bowphs/SPhilBERTa\n"
     ]
    },
    {
     "name": "stderr",
     "output_type": "stream",
     "text": [
      "Encoding texts: 100%|██████████| 4/4 [00:01<00:00,  3.86it/s]\n",
      "Encoding texts: 100%|██████████| 47/47 [00:45<00:00,  1.04it/s]\n",
      " 38%|███▊      | 24/64 [15:46<33:54, 50.87s/it]"
     ]
    },
    {
     "name": "stdout",
     "output_type": "stream",
     "text": [
      "Running experiment for greek gold target with model bowphs/GreBerta\n"
     ]
    },
    {
     "name": "stderr",
     "output_type": "stream",
     "text": [
      "Some weights of RobertaModel were not initialized from the model checkpoint at bowphs/GreBerta and are newly initialized: ['pooler.dense.bias', 'pooler.dense.weight']\n",
      "You should probably TRAIN this model on a down-stream task to be able to use it for predictions and inference.\n",
      "Encoding texts: 100%|██████████| 1/1 [00:00<00:00,  5.24it/s]\n",
      "Encoding texts: 100%|██████████| 4/4 [00:01<00:00,  2.73it/s]\n",
      " 39%|███▉      | 25/64 [15:50<23:59, 36.92s/it]"
     ]
    },
    {
     "name": "stdout",
     "output_type": "stream",
     "text": [
      "Running experiment for greek gold target with model bowphs/LaBerta\n"
     ]
    },
    {
     "name": "stderr",
     "output_type": "stream",
     "text": [
      "Some weights of RobertaModel were not initialized from the model checkpoint at bowphs/LaBerta and are newly initialized: ['pooler.dense.bias', 'pooler.dense.weight']\n",
      "You should probably TRAIN this model on a down-stream task to be able to use it for predictions and inference.\n",
      "Encoding texts: 100%|██████████| 1/1 [00:00<00:00,  2.82it/s]\n",
      "Encoding texts: 100%|██████████| 4/4 [00:02<00:00,  1.61it/s]\n",
      " 41%|████      | 26/64 [15:55<17:24, 27.49s/it]"
     ]
    },
    {
     "name": "stdout",
     "output_type": "stream",
     "text": [
      "Running experiment for greek gold target with model bowphs/PhilBERTa\n"
     ]
    },
    {
     "name": "stderr",
     "output_type": "stream",
     "text": [
      "Some weights of RobertaModel were not initialized from the model checkpoint at bowphs/PhilBERTa and are newly initialized: ['pooler.dense.bias', 'pooler.dense.weight']\n",
      "You should probably TRAIN this model on a down-stream task to be able to use it for predictions and inference.\n",
      "Encoding texts: 100%|██████████| 1/1 [00:00<00:00,  5.21it/s]\n",
      "Encoding texts: 100%|██████████| 4/4 [00:01<00:00,  2.55it/s]\n",
      " 42%|████▏     | 27/64 [16:00<12:47, 20.73s/it]"
     ]
    },
    {
     "name": "stdout",
     "output_type": "stream",
     "text": [
      "Running experiment for greek gold target with model bowphs/SPhilBERTa\n"
     ]
    },
    {
     "name": "stderr",
     "output_type": "stream",
     "text": [
      "Encoding texts: 100%|██████████| 1/1 [00:00<00:00,  4.74it/s]\n",
      "Encoding texts: 100%|██████████| 4/4 [00:01<00:00,  2.65it/s]\n",
      " 44%|████▍     | 28/64 [16:05<09:34, 15.96s/it]"
     ]
    },
    {
     "name": "stdout",
     "output_type": "stream",
     "text": [
      "Running experiment for greek gold target+random with model bowphs/GreBerta\n"
     ]
    },
    {
     "name": "stderr",
     "output_type": "stream",
     "text": [
      "Some weights of RobertaModel were not initialized from the model checkpoint at bowphs/GreBerta and are newly initialized: ['pooler.dense.bias', 'pooler.dense.weight']\n",
      "You should probably TRAIN this model on a down-stream task to be able to use it for predictions and inference.\n",
      "Encoding texts: 100%|██████████| 1/1 [00:00<00:00,  6.20it/s]\n",
      "Encoding texts: 100%|██████████| 35/35 [00:39<00:00,  1.13s/it]\n",
      " 45%|████▌     | 29/64 [16:49<14:13, 24.40s/it]"
     ]
    },
    {
     "name": "stdout",
     "output_type": "stream",
     "text": [
      "Running experiment for greek gold target+random with model bowphs/LaBerta\n"
     ]
    },
    {
     "name": "stderr",
     "output_type": "stream",
     "text": [
      "Some weights of RobertaModel were not initialized from the model checkpoint at bowphs/LaBerta and are newly initialized: ['pooler.dense.bias', 'pooler.dense.weight']\n",
      "You should probably TRAIN this model on a down-stream task to be able to use it for predictions and inference.\n",
      "Encoding texts: 100%|██████████| 1/1 [00:00<00:00,  2.86it/s]\n",
      "Encoding texts: 100%|██████████| 35/35 [00:52<00:00,  1.51s/it]\n",
      " 47%|████▋     | 30/64 [17:47<19:25, 34.27s/it]"
     ]
    },
    {
     "name": "stdout",
     "output_type": "stream",
     "text": [
      "Running experiment for greek gold target+random with model bowphs/PhilBERTa\n"
     ]
    },
    {
     "name": "stderr",
     "output_type": "stream",
     "text": [
      "Some weights of RobertaModel were not initialized from the model checkpoint at bowphs/PhilBERTa and are newly initialized: ['pooler.dense.bias', 'pooler.dense.weight']\n",
      "You should probably TRAIN this model on a down-stream task to be able to use it for predictions and inference.\n",
      "Encoding texts: 100%|██████████| 1/1 [00:00<00:00,  5.23it/s]\n",
      "Encoding texts: 100%|██████████| 35/35 [00:47<00:00,  1.36s/it]\n",
      " 48%|████▊     | 31/64 [18:39<21:48, 39.66s/it]"
     ]
    },
    {
     "name": "stdout",
     "output_type": "stream",
     "text": [
      "Running experiment for greek gold target+random with model bowphs/SPhilBERTa\n"
     ]
    },
    {
     "name": "stderr",
     "output_type": "stream",
     "text": [
      "Encoding texts: 100%|██████████| 1/1 [00:00<00:00,  3.99it/s]\n",
      "Encoding texts: 100%|██████████| 35/35 [00:51<00:00,  1.47s/it]\n",
      " 50%|█████     | 32/64 [19:36<23:54, 44.84s/it]"
     ]
    },
    {
     "name": "stdout",
     "output_type": "stream",
     "text": [
      "Running experiment for latin+greek silver target with model bowphs/GreBerta\n"
     ]
    },
    {
     "name": "stderr",
     "output_type": "stream",
     "text": [
      "Some weights of RobertaModel were not initialized from the model checkpoint at bowphs/GreBerta and are newly initialized: ['pooler.dense.bias', 'pooler.dense.weight']\n",
      "You should probably TRAIN this model on a down-stream task to be able to use it for predictions and inference.\n",
      "Encoding texts: 100%|██████████| 4/4 [00:01<00:00,  3.55it/s]\n",
      "Encoding texts: 100%|██████████| 16/16 [00:08<00:00,  1.90it/s]\n",
      " 52%|█████▏    | 33/64 [19:52<18:45, 36.31s/it]"
     ]
    },
    {
     "name": "stdout",
     "output_type": "stream",
     "text": [
      "Running experiment for latin+greek silver target with model bowphs/LaBerta\n"
     ]
    },
    {
     "name": "stderr",
     "output_type": "stream",
     "text": [
      "Some weights of RobertaModel were not initialized from the model checkpoint at bowphs/LaBerta and are newly initialized: ['pooler.dense.bias', 'pooler.dense.weight']\n",
      "You should probably TRAIN this model on a down-stream task to be able to use it for predictions and inference.\n",
      "Encoding texts: 100%|██████████| 4/4 [00:01<00:00,  2.11it/s]\n",
      "Encoding texts: 100%|██████████| 16/16 [00:05<00:00,  3.15it/s]\n",
      " 53%|█████▎    | 34/64 [20:06<14:47, 29.57s/it]"
     ]
    },
    {
     "name": "stdout",
     "output_type": "stream",
     "text": [
      "Running experiment for latin+greek silver target with model bowphs/PhilBERTa\n"
     ]
    },
    {
     "name": "stderr",
     "output_type": "stream",
     "text": [
      "Some weights of RobertaModel were not initialized from the model checkpoint at bowphs/PhilBERTa and are newly initialized: ['pooler.dense.bias', 'pooler.dense.weight']\n",
      "You should probably TRAIN this model on a down-stream task to be able to use it for predictions and inference.\n",
      "Encoding texts: 100%|██████████| 4/4 [00:01<00:00,  3.26it/s]\n",
      "Encoding texts: 100%|██████████| 16/16 [00:05<00:00,  3.15it/s]\n",
      " 55%|█████▍    | 35/64 [20:20<11:58, 24.78s/it]"
     ]
    },
    {
     "name": "stdout",
     "output_type": "stream",
     "text": [
      "Running experiment for latin+greek silver target with model bowphs/SPhilBERTa\n"
     ]
    },
    {
     "name": "stderr",
     "output_type": "stream",
     "text": [
      "Encoding texts: 100%|██████████| 4/4 [00:01<00:00,  3.20it/s]\n",
      "Encoding texts: 100%|██████████| 16/16 [00:05<00:00,  3.13it/s]\n",
      " 56%|█████▋    | 36/64 [20:34<10:08, 21.73s/it]"
     ]
    },
    {
     "name": "stdout",
     "output_type": "stream",
     "text": [
      "Running experiment for latin+greek silver target+random with model bowphs/GreBerta\n"
     ]
    },
    {
     "name": "stderr",
     "output_type": "stream",
     "text": [
      "Some weights of RobertaModel were not initialized from the model checkpoint at bowphs/GreBerta and are newly initialized: ['pooler.dense.bias', 'pooler.dense.weight']\n",
      "You should probably TRAIN this model on a down-stream task to be able to use it for predictions and inference.\n",
      "Encoding texts: 100%|██████████| 4/4 [00:01<00:00,  3.41it/s]\n",
      "Encoding texts: 100%|██████████| 47/47 [01:17<00:00,  1.65s/it]\n",
      " 58%|█████▊    | 37/64 [22:04<18:58, 42.17s/it]"
     ]
    },
    {
     "name": "stdout",
     "output_type": "stream",
     "text": [
      "Running experiment for latin+greek silver target+random with model bowphs/LaBerta\n"
     ]
    },
    {
     "name": "stderr",
     "output_type": "stream",
     "text": [
      "Some weights of RobertaModel were not initialized from the model checkpoint at bowphs/LaBerta and are newly initialized: ['pooler.dense.bias', 'pooler.dense.weight']\n",
      "You should probably TRAIN this model on a down-stream task to be able to use it for predictions and inference.\n",
      "Encoding texts: 100%|██████████| 4/4 [00:01<00:00,  2.16it/s]\n",
      "Encoding texts: 100%|██████████| 47/47 [01:13<00:00,  1.56s/it]\n",
      " 59%|█████▉    | 38/64 [23:31<24:04, 55.56s/it]"
     ]
    },
    {
     "name": "stdout",
     "output_type": "stream",
     "text": [
      "Running experiment for latin+greek silver target+random with model bowphs/PhilBERTa\n"
     ]
    },
    {
     "name": "stderr",
     "output_type": "stream",
     "text": [
      "Some weights of RobertaModel were not initialized from the model checkpoint at bowphs/PhilBERTa and are newly initialized: ['pooler.dense.bias', 'pooler.dense.weight']\n",
      "You should probably TRAIN this model on a down-stream task to be able to use it for predictions and inference.\n",
      "Encoding texts: 100%|██████████| 4/4 [00:01<00:00,  3.30it/s]\n",
      "Encoding texts: 100%|██████████| 47/47 [01:13<00:00,  1.57s/it]\n",
      " 61%|██████    | 39/64 [24:57<26:59, 64.77s/it]"
     ]
    },
    {
     "name": "stdout",
     "output_type": "stream",
     "text": [
      "Running experiment for latin+greek silver target+random with model bowphs/SPhilBERTa\n"
     ]
    },
    {
     "name": "stderr",
     "output_type": "stream",
     "text": [
      "Encoding texts: 100%|██████████| 4/4 [00:01<00:00,  3.36it/s]\n",
      "Encoding texts: 100%|██████████| 47/47 [01:13<00:00,  1.57s/it]\n",
      " 62%|██████▎   | 40/64 [26:23<28:24, 71.02s/it]"
     ]
    },
    {
     "name": "stdout",
     "output_type": "stream",
     "text": [
      "Running experiment for latin+greek gold target with model bowphs/GreBerta\n"
     ]
    },
    {
     "name": "stderr",
     "output_type": "stream",
     "text": [
      "Some weights of RobertaModel were not initialized from the model checkpoint at bowphs/GreBerta and are newly initialized: ['pooler.dense.bias', 'pooler.dense.weight']\n",
      "You should probably TRAIN this model on a down-stream task to be able to use it for predictions and inference.\n",
      "Encoding texts: 100%|██████████| 1/1 [00:00<00:00,  5.11it/s]\n",
      "Encoding texts: 100%|██████████| 4/4 [00:03<00:00,  1.11it/s]\n",
      " 64%|██████▍   | 41/64 [26:30<19:52, 51.83s/it]"
     ]
    },
    {
     "name": "stdout",
     "output_type": "stream",
     "text": [
      "Running experiment for latin+greek gold target with model bowphs/LaBerta\n"
     ]
    },
    {
     "name": "stderr",
     "output_type": "stream",
     "text": [
      "Some weights of RobertaModel were not initialized from the model checkpoint at bowphs/LaBerta and are newly initialized: ['pooler.dense.bias', 'pooler.dense.weight']\n",
      "You should probably TRAIN this model on a down-stream task to be able to use it for predictions and inference.\n",
      "Encoding texts: 100%|██████████| 1/1 [00:00<00:00,  2.22it/s]\n",
      "Encoding texts: 100%|██████████| 4/4 [00:02<00:00,  1.96it/s]\n",
      " 66%|██████▌   | 42/64 [26:35<13:55, 37.96s/it]"
     ]
    },
    {
     "name": "stdout",
     "output_type": "stream",
     "text": [
      "Running experiment for latin+greek gold target with model bowphs/PhilBERTa\n"
     ]
    },
    {
     "name": "stderr",
     "output_type": "stream",
     "text": [
      "Some weights of RobertaModel were not initialized from the model checkpoint at bowphs/PhilBERTa and are newly initialized: ['pooler.dense.bias', 'pooler.dense.weight']\n",
      "You should probably TRAIN this model on a down-stream task to be able to use it for predictions and inference.\n",
      "Encoding texts: 100%|██████████| 1/1 [00:00<00:00,  4.04it/s]\n",
      "Encoding texts: 100%|██████████| 4/4 [00:02<00:00,  1.86it/s]\n",
      " 67%|██████▋   | 43/64 [26:41<09:55, 28.35s/it]"
     ]
    },
    {
     "name": "stdout",
     "output_type": "stream",
     "text": [
      "Running experiment for latin+greek gold target with model bowphs/SPhilBERTa\n"
     ]
    },
    {
     "name": "stderr",
     "output_type": "stream",
     "text": [
      "Encoding texts: 100%|██████████| 1/1 [00:00<00:00,  3.76it/s]\n",
      "Encoding texts: 100%|██████████| 4/4 [00:02<00:00,  1.86it/s]\n",
      " 69%|██████▉   | 44/64 [26:47<07:12, 21.64s/it]"
     ]
    },
    {
     "name": "stdout",
     "output_type": "stream",
     "text": [
      "Running experiment for latin+greek gold target+random with model bowphs/GreBerta\n"
     ]
    },
    {
     "name": "stderr",
     "output_type": "stream",
     "text": [
      "Some weights of RobertaModel were not initialized from the model checkpoint at bowphs/GreBerta and are newly initialized: ['pooler.dense.bias', 'pooler.dense.weight']\n",
      "You should probably TRAIN this model on a down-stream task to be able to use it for predictions and inference.\n",
      "Encoding texts: 100%|██████████| 1/1 [00:00<00:00,  3.95it/s]\n",
      "Encoding texts: 100%|██████████| 35/35 [01:12<00:00,  2.07s/it]\n",
      " 70%|███████   | 45/64 [28:05<12:09, 38.41s/it]"
     ]
    },
    {
     "name": "stdout",
     "output_type": "stream",
     "text": [
      "Running experiment for latin+greek gold target+random with model bowphs/LaBerta\n"
     ]
    },
    {
     "name": "stderr",
     "output_type": "stream",
     "text": [
      "Some weights of RobertaModel were not initialized from the model checkpoint at bowphs/LaBerta and are newly initialized: ['pooler.dense.bias', 'pooler.dense.weight']\n",
      "You should probably TRAIN this model on a down-stream task to be able to use it for predictions and inference.\n",
      "Encoding texts: 100%|██████████| 1/1 [00:00<00:00,  2.20it/s]\n",
      "Encoding texts: 100%|██████████| 35/35 [01:12<00:00,  2.08s/it]\n",
      " 72%|███████▏  | 46/64 [29:23<15:07, 50.42s/it]"
     ]
    },
    {
     "name": "stdout",
     "output_type": "stream",
     "text": [
      "Running experiment for latin+greek gold target+random with model bowphs/PhilBERTa\n"
     ]
    },
    {
     "name": "stderr",
     "output_type": "stream",
     "text": [
      "Some weights of RobertaModel were not initialized from the model checkpoint at bowphs/PhilBERTa and are newly initialized: ['pooler.dense.bias', 'pooler.dense.weight']\n",
      "You should probably TRAIN this model on a down-stream task to be able to use it for predictions and inference.\n",
      "Encoding texts: 100%|██████████| 1/1 [00:00<00:00,  3.57it/s]\n",
      "Encoding texts: 100%|██████████| 35/35 [01:13<00:00,  2.09s/it]\n",
      " 73%|███████▎  | 47/64 [30:42<16:42, 58.94s/it]"
     ]
    },
    {
     "name": "stdout",
     "output_type": "stream",
     "text": [
      "Running experiment for latin+greek gold target+random with model bowphs/SPhilBERTa\n"
     ]
    },
    {
     "name": "stderr",
     "output_type": "stream",
     "text": [
      "Encoding texts: 100%|██████████| 1/1 [00:00<00:00,  4.16it/s]\n",
      "Encoding texts: 100%|██████████| 35/35 [01:12<00:00,  2.08s/it]\n",
      " 75%|███████▌  | 48/64 [32:01<17:18, 64.88s/it]"
     ]
    },
    {
     "name": "stdout",
     "output_type": "stream",
     "text": [
      "Running experiment for greek+latin silver target with model bowphs/GreBerta\n"
     ]
    },
    {
     "name": "stderr",
     "output_type": "stream",
     "text": [
      "Some weights of RobertaModel were not initialized from the model checkpoint at bowphs/GreBerta and are newly initialized: ['pooler.dense.bias', 'pooler.dense.weight']\n",
      "You should probably TRAIN this model on a down-stream task to be able to use it for predictions and inference.\n",
      "Encoding texts: 100%|██████████| 4/4 [00:01<00:00,  2.70it/s]\n",
      "Encoding texts: 100%|██████████| 16/16 [00:06<00:00,  2.45it/s]\n",
      " 77%|███████▋  | 49/64 [32:16<12:29, 49.94s/it]"
     ]
    },
    {
     "name": "stdout",
     "output_type": "stream",
     "text": [
      "Running experiment for greek+latin silver target with model bowphs/LaBerta\n"
     ]
    },
    {
     "name": "stderr",
     "output_type": "stream",
     "text": [
      "Some weights of RobertaModel were not initialized from the model checkpoint at bowphs/LaBerta and are newly initialized: ['pooler.dense.bias', 'pooler.dense.weight']\n",
      "You should probably TRAIN this model on a down-stream task to be able to use it for predictions and inference.\n",
      "Encoding texts: 100%|██████████| 4/4 [00:00<00:00,  4.51it/s]\n",
      "Encoding texts: 100%|██████████| 16/16 [00:10<00:00,  1.46it/s]\n",
      " 78%|███████▊  | 50/64 [32:35<09:29, 40.68s/it]"
     ]
    },
    {
     "name": "stdout",
     "output_type": "stream",
     "text": [
      "Running experiment for greek+latin silver target with model bowphs/PhilBERTa\n"
     ]
    },
    {
     "name": "stderr",
     "output_type": "stream",
     "text": [
      "Some weights of RobertaModel were not initialized from the model checkpoint at bowphs/PhilBERTa and are newly initialized: ['pooler.dense.bias', 'pooler.dense.weight']\n",
      "You should probably TRAIN this model on a down-stream task to be able to use it for predictions and inference.\n",
      "Encoding texts: 100%|██████████| 4/4 [00:00<00:00,  4.45it/s]\n",
      "Encoding texts: 100%|██████████| 16/16 [00:06<00:00,  2.35it/s]\n",
      " 80%|███████▉  | 51/64 [32:50<07:09, 33.05s/it]"
     ]
    },
    {
     "name": "stdout",
     "output_type": "stream",
     "text": [
      "Running experiment for greek+latin silver target with model bowphs/SPhilBERTa\n"
     ]
    },
    {
     "name": "stderr",
     "output_type": "stream",
     "text": [
      "Encoding texts: 100%|██████████| 4/4 [00:00<00:00,  4.32it/s]\n",
      "Encoding texts: 100%|██████████| 16/16 [00:06<00:00,  2.37it/s]\n",
      " 81%|████████▏ | 52/64 [33:06<05:33, 27.75s/it]"
     ]
    },
    {
     "name": "stdout",
     "output_type": "stream",
     "text": [
      "Running experiment for greek+latin silver target+random with model bowphs/GreBerta\n"
     ]
    },
    {
     "name": "stderr",
     "output_type": "stream",
     "text": [
      "Some weights of RobertaModel were not initialized from the model checkpoint at bowphs/GreBerta and are newly initialized: ['pooler.dense.bias', 'pooler.dense.weight']\n",
      "You should probably TRAIN this model on a down-stream task to be able to use it for predictions and inference.\n",
      "Encoding texts: 100%|██████████| 4/4 [00:01<00:00,  2.69it/s]\n",
      "Encoding texts: 100%|██████████| 47/47 [00:56<00:00,  1.21s/it]\n",
      " 83%|████████▎ | 53/64 [34:15<07:24, 40.36s/it]"
     ]
    },
    {
     "name": "stdout",
     "output_type": "stream",
     "text": [
      "Running experiment for greek+latin silver target+random with model bowphs/LaBerta\n"
     ]
    },
    {
     "name": "stderr",
     "output_type": "stream",
     "text": [
      "Some weights of RobertaModel were not initialized from the model checkpoint at bowphs/LaBerta and are newly initialized: ['pooler.dense.bias', 'pooler.dense.weight']\n",
      "You should probably TRAIN this model on a down-stream task to be able to use it for predictions and inference.\n",
      "Encoding texts: 100%|██████████| 4/4 [00:00<00:00,  4.24it/s]\n",
      "Encoding texts: 100%|██████████| 47/47 [01:17<00:00,  1.64s/it]\n",
      " 84%|████████▍ | 54/64 [35:45<09:10, 55.04s/it]"
     ]
    },
    {
     "name": "stdout",
     "output_type": "stream",
     "text": [
      "Running experiment for greek+latin silver target+random with model bowphs/PhilBERTa\n"
     ]
    },
    {
     "name": "stderr",
     "output_type": "stream",
     "text": [
      "Some weights of RobertaModel were not initialized from the model checkpoint at bowphs/PhilBERTa and are newly initialized: ['pooler.dense.bias', 'pooler.dense.weight']\n",
      "You should probably TRAIN this model on a down-stream task to be able to use it for predictions and inference.\n",
      "Encoding texts: 100%|██████████| 4/4 [00:00<00:00,  4.25it/s]\n",
      "Encoding texts: 100%|██████████| 47/47 [00:58<00:00,  1.24s/it]\n",
      " 86%|████████▌ | 55/64 [36:56<08:59, 59.95s/it]"
     ]
    },
    {
     "name": "stdout",
     "output_type": "stream",
     "text": [
      "Running experiment for greek+latin silver target+random with model bowphs/SPhilBERTa\n"
     ]
    },
    {
     "name": "stderr",
     "output_type": "stream",
     "text": [
      "Encoding texts: 100%|██████████| 4/4 [00:00<00:00,  4.26it/s]\n",
      "Encoding texts: 100%|██████████| 47/47 [00:58<00:00,  1.24s/it]\n",
      " 88%|████████▊ | 56/64 [38:07<08:25, 63.20s/it]"
     ]
    },
    {
     "name": "stdout",
     "output_type": "stream",
     "text": [
      "Running experiment for greek+latin gold target with model bowphs/GreBerta\n"
     ]
    },
    {
     "name": "stderr",
     "output_type": "stream",
     "text": [
      "Some weights of RobertaModel were not initialized from the model checkpoint at bowphs/GreBerta and are newly initialized: ['pooler.dense.bias', 'pooler.dense.weight']\n",
      "You should probably TRAIN this model on a down-stream task to be able to use it for predictions and inference.\n",
      "Encoding texts: 100%|██████████| 1/1 [00:00<00:00,  2.03it/s]\n",
      "Encoding texts: 100%|██████████| 4/4 [00:01<00:00,  2.12it/s]\n",
      " 89%|████████▉ | 57/64 [38:13<05:22, 46.06s/it]"
     ]
    },
    {
     "name": "stdout",
     "output_type": "stream",
     "text": [
      "Running experiment for greek+latin gold target with model bowphs/LaBerta\n"
     ]
    },
    {
     "name": "stderr",
     "output_type": "stream",
     "text": [
      "Some weights of RobertaModel were not initialized from the model checkpoint at bowphs/LaBerta and are newly initialized: ['pooler.dense.bias', 'pooler.dense.weight']\n",
      "You should probably TRAIN this model on a down-stream task to be able to use it for predictions and inference.\n",
      "Encoding texts: 100%|██████████| 1/1 [00:00<00:00,  3.05it/s]\n",
      "Encoding texts: 100%|██████████| 4/4 [00:03<00:00,  1.26it/s]\n",
      " 91%|█████████ | 58/64 [38:20<03:25, 34.27s/it]"
     ]
    },
    {
     "name": "stdout",
     "output_type": "stream",
     "text": [
      "Running experiment for greek+latin gold target with model bowphs/PhilBERTa\n"
     ]
    },
    {
     "name": "stderr",
     "output_type": "stream",
     "text": [
      "Some weights of RobertaModel were not initialized from the model checkpoint at bowphs/PhilBERTa and are newly initialized: ['pooler.dense.bias', 'pooler.dense.weight']\n",
      "You should probably TRAIN this model on a down-stream task to be able to use it for predictions and inference.\n",
      "Encoding texts: 100%|██████████| 1/1 [00:00<00:00,  3.35it/s]\n",
      "Encoding texts: 100%|██████████| 4/4 [00:02<00:00,  1.98it/s]\n",
      " 92%|█████████▏| 59/64 [38:26<02:08, 25.78s/it]"
     ]
    },
    {
     "name": "stdout",
     "output_type": "stream",
     "text": [
      "Running experiment for greek+latin gold target with model bowphs/SPhilBERTa\n"
     ]
    },
    {
     "name": "stderr",
     "output_type": "stream",
     "text": [
      "Encoding texts: 100%|██████████| 1/1 [00:00<00:00,  3.35it/s]\n",
      "Encoding texts: 100%|██████████| 4/4 [00:02<00:00,  1.96it/s]\n",
      " 94%|█████████▍| 60/64 [38:32<01:19, 19.95s/it]"
     ]
    },
    {
     "name": "stdout",
     "output_type": "stream",
     "text": [
      "Running experiment for greek+latin gold target+random with model bowphs/GreBerta\n"
     ]
    },
    {
     "name": "stderr",
     "output_type": "stream",
     "text": [
      "Some weights of RobertaModel were not initialized from the model checkpoint at bowphs/GreBerta and are newly initialized: ['pooler.dense.bias', 'pooler.dense.weight']\n",
      "You should probably TRAIN this model on a down-stream task to be able to use it for predictions and inference.\n",
      "Encoding texts: 100%|██████████| 1/1 [00:00<00:00,  2.01it/s]\n",
      "Encoding texts: 100%|██████████| 35/35 [00:47<00:00,  1.37s/it]\n",
      " 95%|█████████▌| 61/64 [39:26<01:29, 29.99s/it]"
     ]
    },
    {
     "name": "stdout",
     "output_type": "stream",
     "text": [
      "Running experiment for greek+latin gold target+random with model bowphs/LaBerta\n"
     ]
    },
    {
     "name": "stderr",
     "output_type": "stream",
     "text": [
      "Some weights of RobertaModel were not initialized from the model checkpoint at bowphs/LaBerta and are newly initialized: ['pooler.dense.bias', 'pooler.dense.weight']\n",
      "You should probably TRAIN this model on a down-stream task to be able to use it for predictions and inference.\n",
      "Encoding texts: 100%|██████████| 1/1 [00:00<00:00,  3.81it/s]\n",
      "Encoding texts: 100%|██████████| 35/35 [01:02<00:00,  1.77s/it]\n",
      " 97%|█████████▋| 62/64 [40:33<01:22, 41.11s/it]"
     ]
    },
    {
     "name": "stdout",
     "output_type": "stream",
     "text": [
      "Running experiment for greek+latin gold target+random with model bowphs/PhilBERTa\n"
     ]
    },
    {
     "name": "stderr",
     "output_type": "stream",
     "text": [
      "Some weights of RobertaModel were not initialized from the model checkpoint at bowphs/PhilBERTa and are newly initialized: ['pooler.dense.bias', 'pooler.dense.weight']\n",
      "You should probably TRAIN this model on a down-stream task to be able to use it for predictions and inference.\n",
      "Encoding texts: 100%|██████████| 1/1 [00:00<00:00,  3.86it/s]\n",
      "Encoding texts: 100%|██████████| 35/35 [00:43<00:00,  1.25s/it]\n",
      " 98%|█████████▊| 63/64 [41:22<00:43, 43.51s/it]"
     ]
    },
    {
     "name": "stdout",
     "output_type": "stream",
     "text": [
      "Running experiment for greek+latin gold target+random with model bowphs/SPhilBERTa\n"
     ]
    },
    {
     "name": "stderr",
     "output_type": "stream",
     "text": [
      "Encoding texts: 100%|██████████| 1/1 [00:00<00:00,  4.30it/s]\n",
      "Encoding texts: 100%|██████████| 35/35 [00:39<00:00,  1.13s/it]\n",
      "100%|██████████| 64/64 [42:06<00:00, 39.48s/it]\n"
     ]
    }
   ],
   "source": [
    "pretrained_model_args = [\n",
    "    {\"model_type\": \"roberta\", \"model_name\":\"bowphs/GreBerta\"},\n",
    "    {\"model_type\": \"roberta\", \"model_name\":\"bowphs/LaBerta\"},\n",
    "    {\"model_type\": \"roberta\", \"model_name\":\"bowphs/PhilBERTa\"},\n",
    "    {\"model_type\": \"roberta\", \"model_name\":\"bowphs/SPhilBERTa\"}\n",
    "]\n",
    "langs = [\"latin\", \"greek\", \"latin+greek\", \"greek+latin\"]\n",
    "splits = [\"silver\", \"gold\"]\n",
    "settings = [\"target\", \"target+random\"]\n",
    "pretrained_experiments = itertools.product(langs, splits, settings, pretrained_model_args)\n",
    "pretrained_experiments = list(pretrained_experiments)\n",
    "\n",
    "predictions, references = run_experiments(pretrained_experiments)"
   ]
  },
  {
   "cell_type": "code",
   "execution_count": 10,
   "id": "6c034e41",
   "metadata": {},
   "outputs": [
    {
     "name": "stderr",
     "output_type": "stream",
     "text": [
      "/home/gpucce/Repos/index_encoders_eval_itserr/conda_venv/lib/python3.10/site-packages/trectools/trec_eval.py:311: FutureWarning: The default of observed=False is deprecated and will be changed to True in a future version of pandas. Pass observed=False to retain current behavior or observed=True to adopt the future default and silence this warning.\n",
      "  selection = selection[~selection[\"rel\"].isnull()].groupby(\"query\").first().copy()\n",
      "/home/gpucce/Repos/index_encoders_eval_itserr/conda_venv/lib/python3.10/site-packages/trectools/trec_eval.py:311: FutureWarning: The default of observed=False is deprecated and will be changed to True in a future version of pandas. Pass observed=False to retain current behavior or observed=True to adopt the future default and silence this warning.\n",
      "  selection = selection[~selection[\"rel\"].isnull()].groupby(\"query\").first().copy()\n",
      "/home/gpucce/Repos/index_encoders_eval_itserr/conda_venv/lib/python3.10/site-packages/trectools/trec_eval.py:311: FutureWarning: The default of observed=False is deprecated and will be changed to True in a future version of pandas. Pass observed=False to retain current behavior or observed=True to adopt the future default and silence this warning.\n",
      "  selection = selection[~selection[\"rel\"].isnull()].groupby(\"query\").first().copy()\n",
      "/home/gpucce/Repos/index_encoders_eval_itserr/conda_venv/lib/python3.10/site-packages/trectools/trec_eval.py:311: FutureWarning: The default of observed=False is deprecated and will be changed to True in a future version of pandas. Pass observed=False to retain current behavior or observed=True to adopt the future default and silence this warning.\n",
      "  selection = selection[~selection[\"rel\"].isnull()].groupby(\"query\").first().copy()\n",
      "/home/gpucce/Repos/index_encoders_eval_itserr/conda_venv/lib/python3.10/site-packages/trectools/trec_eval.py:311: FutureWarning: The default of observed=False is deprecated and will be changed to True in a future version of pandas. Pass observed=False to retain current behavior or observed=True to adopt the future default and silence this warning.\n",
      "  selection = selection[~selection[\"rel\"].isnull()].groupby(\"query\").first().copy()\n",
      "/home/gpucce/Repos/index_encoders_eval_itserr/conda_venv/lib/python3.10/site-packages/trectools/trec_eval.py:311: FutureWarning: The default of observed=False is deprecated and will be changed to True in a future version of pandas. Pass observed=False to retain current behavior or observed=True to adopt the future default and silence this warning.\n",
      "  selection = selection[~selection[\"rel\"].isnull()].groupby(\"query\").first().copy()\n",
      "/home/gpucce/Repos/index_encoders_eval_itserr/conda_venv/lib/python3.10/site-packages/trectools/trec_eval.py:311: FutureWarning: The default of observed=False is deprecated and will be changed to True in a future version of pandas. Pass observed=False to retain current behavior or observed=True to adopt the future default and silence this warning.\n",
      "  selection = selection[~selection[\"rel\"].isnull()].groupby(\"query\").first().copy()\n",
      "/home/gpucce/Repos/index_encoders_eval_itserr/conda_venv/lib/python3.10/site-packages/trectools/trec_eval.py:311: FutureWarning: The default of observed=False is deprecated and will be changed to True in a future version of pandas. Pass observed=False to retain current behavior or observed=True to adopt the future default and silence this warning.\n",
      "  selection = selection[~selection[\"rel\"].isnull()].groupby(\"query\").first().copy()\n",
      "/home/gpucce/Repos/index_encoders_eval_itserr/conda_venv/lib/python3.10/site-packages/trectools/trec_eval.py:311: FutureWarning: The default of observed=False is deprecated and will be changed to True in a future version of pandas. Pass observed=False to retain current behavior or observed=True to adopt the future default and silence this warning.\n",
      "  selection = selection[~selection[\"rel\"].isnull()].groupby(\"query\").first().copy()\n",
      "/home/gpucce/Repos/index_encoders_eval_itserr/conda_venv/lib/python3.10/site-packages/trectools/trec_eval.py:311: FutureWarning: The default of observed=False is deprecated and will be changed to True in a future version of pandas. Pass observed=False to retain current behavior or observed=True to adopt the future default and silence this warning.\n",
      "  selection = selection[~selection[\"rel\"].isnull()].groupby(\"query\").first().copy()\n",
      "/home/gpucce/Repos/index_encoders_eval_itserr/conda_venv/lib/python3.10/site-packages/trectools/trec_eval.py:311: FutureWarning: The default of observed=False is deprecated and will be changed to True in a future version of pandas. Pass observed=False to retain current behavior or observed=True to adopt the future default and silence this warning.\n",
      "  selection = selection[~selection[\"rel\"].isnull()].groupby(\"query\").first().copy()\n",
      "/home/gpucce/Repos/index_encoders_eval_itserr/conda_venv/lib/python3.10/site-packages/trectools/trec_eval.py:311: FutureWarning: The default of observed=False is deprecated and will be changed to True in a future version of pandas. Pass observed=False to retain current behavior or observed=True to adopt the future default and silence this warning.\n",
      "  selection = selection[~selection[\"rel\"].isnull()].groupby(\"query\").first().copy()\n",
      "/home/gpucce/Repos/index_encoders_eval_itserr/conda_venv/lib/python3.10/site-packages/trectools/trec_eval.py:311: FutureWarning: The default of observed=False is deprecated and will be changed to True in a future version of pandas. Pass observed=False to retain current behavior or observed=True to adopt the future default and silence this warning.\n",
      "  selection = selection[~selection[\"rel\"].isnull()].groupby(\"query\").first().copy()\n",
      "/home/gpucce/Repos/index_encoders_eval_itserr/conda_venv/lib/python3.10/site-packages/trectools/trec_eval.py:311: FutureWarning: The default of observed=False is deprecated and will be changed to True in a future version of pandas. Pass observed=False to retain current behavior or observed=True to adopt the future default and silence this warning.\n",
      "  selection = selection[~selection[\"rel\"].isnull()].groupby(\"query\").first().copy()\n",
      "/home/gpucce/Repos/index_encoders_eval_itserr/conda_venv/lib/python3.10/site-packages/trectools/trec_eval.py:311: FutureWarning: The default of observed=False is deprecated and will be changed to True in a future version of pandas. Pass observed=False to retain current behavior or observed=True to adopt the future default and silence this warning.\n",
      "  selection = selection[~selection[\"rel\"].isnull()].groupby(\"query\").first().copy()\n",
      "/home/gpucce/Repos/index_encoders_eval_itserr/conda_venv/lib/python3.10/site-packages/trectools/trec_eval.py:311: FutureWarning: The default of observed=False is deprecated and will be changed to True in a future version of pandas. Pass observed=False to retain current behavior or observed=True to adopt the future default and silence this warning.\n",
      "  selection = selection[~selection[\"rel\"].isnull()].groupby(\"query\").first().copy()\n",
      "/home/gpucce/Repos/index_encoders_eval_itserr/conda_venv/lib/python3.10/site-packages/trectools/trec_eval.py:311: FutureWarning: The default of observed=False is deprecated and will be changed to True in a future version of pandas. Pass observed=False to retain current behavior or observed=True to adopt the future default and silence this warning.\n",
      "  selection = selection[~selection[\"rel\"].isnull()].groupby(\"query\").first().copy()\n",
      "/home/gpucce/Repos/index_encoders_eval_itserr/conda_venv/lib/python3.10/site-packages/trectools/trec_eval.py:311: FutureWarning: The default of observed=False is deprecated and will be changed to True in a future version of pandas. Pass observed=False to retain current behavior or observed=True to adopt the future default and silence this warning.\n",
      "  selection = selection[~selection[\"rel\"].isnull()].groupby(\"query\").first().copy()\n",
      "/home/gpucce/Repos/index_encoders_eval_itserr/conda_venv/lib/python3.10/site-packages/trectools/trec_eval.py:311: FutureWarning: The default of observed=False is deprecated and will be changed to True in a future version of pandas. Pass observed=False to retain current behavior or observed=True to adopt the future default and silence this warning.\n",
      "  selection = selection[~selection[\"rel\"].isnull()].groupby(\"query\").first().copy()\n",
      "/home/gpucce/Repos/index_encoders_eval_itserr/conda_venv/lib/python3.10/site-packages/trectools/trec_eval.py:311: FutureWarning: The default of observed=False is deprecated and will be changed to True in a future version of pandas. Pass observed=False to retain current behavior or observed=True to adopt the future default and silence this warning.\n",
      "  selection = selection[~selection[\"rel\"].isnull()].groupby(\"query\").first().copy()\n",
      "/home/gpucce/Repos/index_encoders_eval_itserr/conda_venv/lib/python3.10/site-packages/trectools/trec_eval.py:311: FutureWarning: The default of observed=False is deprecated and will be changed to True in a future version of pandas. Pass observed=False to retain current behavior or observed=True to adopt the future default and silence this warning.\n",
      "  selection = selection[~selection[\"rel\"].isnull()].groupby(\"query\").first().copy()\n",
      "/home/gpucce/Repos/index_encoders_eval_itserr/conda_venv/lib/python3.10/site-packages/trectools/trec_eval.py:311: FutureWarning: The default of observed=False is deprecated and will be changed to True in a future version of pandas. Pass observed=False to retain current behavior or observed=True to adopt the future default and silence this warning.\n",
      "  selection = selection[~selection[\"rel\"].isnull()].groupby(\"query\").first().copy()\n",
      "/home/gpucce/Repos/index_encoders_eval_itserr/conda_venv/lib/python3.10/site-packages/trectools/trec_eval.py:311: FutureWarning: The default of observed=False is deprecated and will be changed to True in a future version of pandas. Pass observed=False to retain current behavior or observed=True to adopt the future default and silence this warning.\n",
      "  selection = selection[~selection[\"rel\"].isnull()].groupby(\"query\").first().copy()\n",
      "/home/gpucce/Repos/index_encoders_eval_itserr/conda_venv/lib/python3.10/site-packages/trectools/trec_eval.py:311: FutureWarning: The default of observed=False is deprecated and will be changed to True in a future version of pandas. Pass observed=False to retain current behavior or observed=True to adopt the future default and silence this warning.\n",
      "  selection = selection[~selection[\"rel\"].isnull()].groupby(\"query\").first().copy()\n",
      "/home/gpucce/Repos/index_encoders_eval_itserr/conda_venv/lib/python3.10/site-packages/trectools/trec_eval.py:311: FutureWarning: The default of observed=False is deprecated and will be changed to True in a future version of pandas. Pass observed=False to retain current behavior or observed=True to adopt the future default and silence this warning.\n",
      "  selection = selection[~selection[\"rel\"].isnull()].groupby(\"query\").first().copy()\n",
      "/home/gpucce/Repos/index_encoders_eval_itserr/conda_venv/lib/python3.10/site-packages/trectools/trec_eval.py:311: FutureWarning: The default of observed=False is deprecated and will be changed to True in a future version of pandas. Pass observed=False to retain current behavior or observed=True to adopt the future default and silence this warning.\n",
      "  selection = selection[~selection[\"rel\"].isnull()].groupby(\"query\").first().copy()\n",
      "/home/gpucce/Repos/index_encoders_eval_itserr/conda_venv/lib/python3.10/site-packages/trectools/trec_eval.py:311: FutureWarning: The default of observed=False is deprecated and will be changed to True in a future version of pandas. Pass observed=False to retain current behavior or observed=True to adopt the future default and silence this warning.\n",
      "  selection = selection[~selection[\"rel\"].isnull()].groupby(\"query\").first().copy()\n",
      "/home/gpucce/Repos/index_encoders_eval_itserr/conda_venv/lib/python3.10/site-packages/trectools/trec_eval.py:311: FutureWarning: The default of observed=False is deprecated and will be changed to True in a future version of pandas. Pass observed=False to retain current behavior or observed=True to adopt the future default and silence this warning.\n",
      "  selection = selection[~selection[\"rel\"].isnull()].groupby(\"query\").first().copy()\n",
      "/home/gpucce/Repos/index_encoders_eval_itserr/conda_venv/lib/python3.10/site-packages/trectools/trec_eval.py:311: FutureWarning: The default of observed=False is deprecated and will be changed to True in a future version of pandas. Pass observed=False to retain current behavior or observed=True to adopt the future default and silence this warning.\n",
      "  selection = selection[~selection[\"rel\"].isnull()].groupby(\"query\").first().copy()\n",
      "/home/gpucce/Repos/index_encoders_eval_itserr/conda_venv/lib/python3.10/site-packages/trectools/trec_eval.py:311: FutureWarning: The default of observed=False is deprecated and will be changed to True in a future version of pandas. Pass observed=False to retain current behavior or observed=True to adopt the future default and silence this warning.\n",
      "  selection = selection[~selection[\"rel\"].isnull()].groupby(\"query\").first().copy()\n",
      "/home/gpucce/Repos/index_encoders_eval_itserr/conda_venv/lib/python3.10/site-packages/trectools/trec_eval.py:311: FutureWarning: The default of observed=False is deprecated and will be changed to True in a future version of pandas. Pass observed=False to retain current behavior or observed=True to adopt the future default and silence this warning.\n",
      "  selection = selection[~selection[\"rel\"].isnull()].groupby(\"query\").first().copy()\n",
      "/home/gpucce/Repos/index_encoders_eval_itserr/conda_venv/lib/python3.10/site-packages/trectools/trec_eval.py:311: FutureWarning: The default of observed=False is deprecated and will be changed to True in a future version of pandas. Pass observed=False to retain current behavior or observed=True to adopt the future default and silence this warning.\n",
      "  selection = selection[~selection[\"rel\"].isnull()].groupby(\"query\").first().copy()\n",
      "/home/gpucce/Repos/index_encoders_eval_itserr/conda_venv/lib/python3.10/site-packages/trectools/trec_eval.py:311: FutureWarning: The default of observed=False is deprecated and will be changed to True in a future version of pandas. Pass observed=False to retain current behavior or observed=True to adopt the future default and silence this warning.\n",
      "  selection = selection[~selection[\"rel\"].isnull()].groupby(\"query\").first().copy()\n",
      "/home/gpucce/Repos/index_encoders_eval_itserr/conda_venv/lib/python3.10/site-packages/trectools/trec_eval.py:311: FutureWarning: The default of observed=False is deprecated and will be changed to True in a future version of pandas. Pass observed=False to retain current behavior or observed=True to adopt the future default and silence this warning.\n",
      "  selection = selection[~selection[\"rel\"].isnull()].groupby(\"query\").first().copy()\n",
      "/home/gpucce/Repos/index_encoders_eval_itserr/conda_venv/lib/python3.10/site-packages/trectools/trec_eval.py:311: FutureWarning: The default of observed=False is deprecated and will be changed to True in a future version of pandas. Pass observed=False to retain current behavior or observed=True to adopt the future default and silence this warning.\n",
      "  selection = selection[~selection[\"rel\"].isnull()].groupby(\"query\").first().copy()\n",
      "/home/gpucce/Repos/index_encoders_eval_itserr/conda_venv/lib/python3.10/site-packages/trectools/trec_eval.py:311: FutureWarning: The default of observed=False is deprecated and will be changed to True in a future version of pandas. Pass observed=False to retain current behavior or observed=True to adopt the future default and silence this warning.\n",
      "  selection = selection[~selection[\"rel\"].isnull()].groupby(\"query\").first().copy()\n",
      "/home/gpucce/Repos/index_encoders_eval_itserr/conda_venv/lib/python3.10/site-packages/trectools/trec_eval.py:311: FutureWarning: The default of observed=False is deprecated and will be changed to True in a future version of pandas. Pass observed=False to retain current behavior or observed=True to adopt the future default and silence this warning.\n",
      "  selection = selection[~selection[\"rel\"].isnull()].groupby(\"query\").first().copy()\n",
      "/home/gpucce/Repos/index_encoders_eval_itserr/conda_venv/lib/python3.10/site-packages/trectools/trec_eval.py:311: FutureWarning: The default of observed=False is deprecated and will be changed to True in a future version of pandas. Pass observed=False to retain current behavior or observed=True to adopt the future default and silence this warning.\n",
      "  selection = selection[~selection[\"rel\"].isnull()].groupby(\"query\").first().copy()\n",
      "/home/gpucce/Repos/index_encoders_eval_itserr/conda_venv/lib/python3.10/site-packages/trectools/trec_eval.py:311: FutureWarning: The default of observed=False is deprecated and will be changed to True in a future version of pandas. Pass observed=False to retain current behavior or observed=True to adopt the future default and silence this warning.\n",
      "  selection = selection[~selection[\"rel\"].isnull()].groupby(\"query\").first().copy()\n",
      "/home/gpucce/Repos/index_encoders_eval_itserr/conda_venv/lib/python3.10/site-packages/trectools/trec_eval.py:311: FutureWarning: The default of observed=False is deprecated and will be changed to True in a future version of pandas. Pass observed=False to retain current behavior or observed=True to adopt the future default and silence this warning.\n",
      "  selection = selection[~selection[\"rel\"].isnull()].groupby(\"query\").first().copy()\n",
      "/home/gpucce/Repos/index_encoders_eval_itserr/conda_venv/lib/python3.10/site-packages/trectools/trec_eval.py:311: FutureWarning: The default of observed=False is deprecated and will be changed to True in a future version of pandas. Pass observed=False to retain current behavior or observed=True to adopt the future default and silence this warning.\n",
      "  selection = selection[~selection[\"rel\"].isnull()].groupby(\"query\").first().copy()\n",
      "/home/gpucce/Repos/index_encoders_eval_itserr/conda_venv/lib/python3.10/site-packages/trectools/trec_eval.py:311: FutureWarning: The default of observed=False is deprecated and will be changed to True in a future version of pandas. Pass observed=False to retain current behavior or observed=True to adopt the future default and silence this warning.\n",
      "  selection = selection[~selection[\"rel\"].isnull()].groupby(\"query\").first().copy()\n",
      "/home/gpucce/Repos/index_encoders_eval_itserr/conda_venv/lib/python3.10/site-packages/trectools/trec_eval.py:311: FutureWarning: The default of observed=False is deprecated and will be changed to True in a future version of pandas. Pass observed=False to retain current behavior or observed=True to adopt the future default and silence this warning.\n",
      "  selection = selection[~selection[\"rel\"].isnull()].groupby(\"query\").first().copy()\n",
      "/home/gpucce/Repos/index_encoders_eval_itserr/conda_venv/lib/python3.10/site-packages/trectools/trec_eval.py:311: FutureWarning: The default of observed=False is deprecated and will be changed to True in a future version of pandas. Pass observed=False to retain current behavior or observed=True to adopt the future default and silence this warning.\n",
      "  selection = selection[~selection[\"rel\"].isnull()].groupby(\"query\").first().copy()\n",
      "/home/gpucce/Repos/index_encoders_eval_itserr/conda_venv/lib/python3.10/site-packages/trectools/trec_eval.py:311: FutureWarning: The default of observed=False is deprecated and will be changed to True in a future version of pandas. Pass observed=False to retain current behavior or observed=True to adopt the future default and silence this warning.\n",
      "  selection = selection[~selection[\"rel\"].isnull()].groupby(\"query\").first().copy()\n",
      "/home/gpucce/Repos/index_encoders_eval_itserr/conda_venv/lib/python3.10/site-packages/trectools/trec_eval.py:311: FutureWarning: The default of observed=False is deprecated and will be changed to True in a future version of pandas. Pass observed=False to retain current behavior or observed=True to adopt the future default and silence this warning.\n",
      "  selection = selection[~selection[\"rel\"].isnull()].groupby(\"query\").first().copy()\n",
      "/home/gpucce/Repos/index_encoders_eval_itserr/conda_venv/lib/python3.10/site-packages/trectools/trec_eval.py:311: FutureWarning: The default of observed=False is deprecated and will be changed to True in a future version of pandas. Pass observed=False to retain current behavior or observed=True to adopt the future default and silence this warning.\n",
      "  selection = selection[~selection[\"rel\"].isnull()].groupby(\"query\").first().copy()\n",
      "/home/gpucce/Repos/index_encoders_eval_itserr/conda_venv/lib/python3.10/site-packages/trectools/trec_eval.py:311: FutureWarning: The default of observed=False is deprecated and will be changed to True in a future version of pandas. Pass observed=False to retain current behavior or observed=True to adopt the future default and silence this warning.\n",
      "  selection = selection[~selection[\"rel\"].isnull()].groupby(\"query\").first().copy()\n",
      "/home/gpucce/Repos/index_encoders_eval_itserr/conda_venv/lib/python3.10/site-packages/trectools/trec_eval.py:311: FutureWarning: The default of observed=False is deprecated and will be changed to True in a future version of pandas. Pass observed=False to retain current behavior or observed=True to adopt the future default and silence this warning.\n",
      "  selection = selection[~selection[\"rel\"].isnull()].groupby(\"query\").first().copy()\n",
      "/home/gpucce/Repos/index_encoders_eval_itserr/conda_venv/lib/python3.10/site-packages/trectools/trec_eval.py:311: FutureWarning: The default of observed=False is deprecated and will be changed to True in a future version of pandas. Pass observed=False to retain current behavior or observed=True to adopt the future default and silence this warning.\n",
      "  selection = selection[~selection[\"rel\"].isnull()].groupby(\"query\").first().copy()\n",
      "/home/gpucce/Repos/index_encoders_eval_itserr/conda_venv/lib/python3.10/site-packages/trectools/trec_eval.py:311: FutureWarning: The default of observed=False is deprecated and will be changed to True in a future version of pandas. Pass observed=False to retain current behavior or observed=True to adopt the future default and silence this warning.\n",
      "  selection = selection[~selection[\"rel\"].isnull()].groupby(\"query\").first().copy()\n",
      "/home/gpucce/Repos/index_encoders_eval_itserr/conda_venv/lib/python3.10/site-packages/trectools/trec_eval.py:311: FutureWarning: The default of observed=False is deprecated and will be changed to True in a future version of pandas. Pass observed=False to retain current behavior or observed=True to adopt the future default and silence this warning.\n",
      "  selection = selection[~selection[\"rel\"].isnull()].groupby(\"query\").first().copy()\n",
      "/home/gpucce/Repos/index_encoders_eval_itserr/conda_venv/lib/python3.10/site-packages/trectools/trec_eval.py:311: FutureWarning: The default of observed=False is deprecated and will be changed to True in a future version of pandas. Pass observed=False to retain current behavior or observed=True to adopt the future default and silence this warning.\n",
      "  selection = selection[~selection[\"rel\"].isnull()].groupby(\"query\").first().copy()\n",
      "/home/gpucce/Repos/index_encoders_eval_itserr/conda_venv/lib/python3.10/site-packages/trectools/trec_eval.py:311: FutureWarning: The default of observed=False is deprecated and will be changed to True in a future version of pandas. Pass observed=False to retain current behavior or observed=True to adopt the future default and silence this warning.\n",
      "  selection = selection[~selection[\"rel\"].isnull()].groupby(\"query\").first().copy()\n",
      "/home/gpucce/Repos/index_encoders_eval_itserr/conda_venv/lib/python3.10/site-packages/trectools/trec_eval.py:311: FutureWarning: The default of observed=False is deprecated and will be changed to True in a future version of pandas. Pass observed=False to retain current behavior or observed=True to adopt the future default and silence this warning.\n",
      "  selection = selection[~selection[\"rel\"].isnull()].groupby(\"query\").first().copy()\n",
      "/home/gpucce/Repos/index_encoders_eval_itserr/conda_venv/lib/python3.10/site-packages/trectools/trec_eval.py:311: FutureWarning: The default of observed=False is deprecated and will be changed to True in a future version of pandas. Pass observed=False to retain current behavior or observed=True to adopt the future default and silence this warning.\n",
      "  selection = selection[~selection[\"rel\"].isnull()].groupby(\"query\").first().copy()\n",
      "/home/gpucce/Repos/index_encoders_eval_itserr/conda_venv/lib/python3.10/site-packages/trectools/trec_eval.py:311: FutureWarning: The default of observed=False is deprecated and will be changed to True in a future version of pandas. Pass observed=False to retain current behavior or observed=True to adopt the future default and silence this warning.\n",
      "  selection = selection[~selection[\"rel\"].isnull()].groupby(\"query\").first().copy()\n",
      "/home/gpucce/Repos/index_encoders_eval_itserr/conda_venv/lib/python3.10/site-packages/trectools/trec_eval.py:311: FutureWarning: The default of observed=False is deprecated and will be changed to True in a future version of pandas. Pass observed=False to retain current behavior or observed=True to adopt the future default and silence this warning.\n",
      "  selection = selection[~selection[\"rel\"].isnull()].groupby(\"query\").first().copy()\n",
      "/home/gpucce/Repos/index_encoders_eval_itserr/conda_venv/lib/python3.10/site-packages/trectools/trec_eval.py:311: FutureWarning: The default of observed=False is deprecated and will be changed to True in a future version of pandas. Pass observed=False to retain current behavior or observed=True to adopt the future default and silence this warning.\n",
      "  selection = selection[~selection[\"rel\"].isnull()].groupby(\"query\").first().copy()\n",
      "/home/gpucce/Repos/index_encoders_eval_itserr/conda_venv/lib/python3.10/site-packages/trectools/trec_eval.py:311: FutureWarning: The default of observed=False is deprecated and will be changed to True in a future version of pandas. Pass observed=False to retain current behavior or observed=True to adopt the future default and silence this warning.\n",
      "  selection = selection[~selection[\"rel\"].isnull()].groupby(\"query\").first().copy()\n",
      "/home/gpucce/Repos/index_encoders_eval_itserr/conda_venv/lib/python3.10/site-packages/trectools/trec_eval.py:311: FutureWarning: The default of observed=False is deprecated and will be changed to True in a future version of pandas. Pass observed=False to retain current behavior or observed=True to adopt the future default and silence this warning.\n",
      "  selection = selection[~selection[\"rel\"].isnull()].groupby(\"query\").first().copy()\n",
      "/home/gpucce/Repos/index_encoders_eval_itserr/conda_venv/lib/python3.10/site-packages/trectools/trec_eval.py:311: FutureWarning: The default of observed=False is deprecated and will be changed to True in a future version of pandas. Pass observed=False to retain current behavior or observed=True to adopt the future default and silence this warning.\n",
      "  selection = selection[~selection[\"rel\"].isnull()].groupby(\"query\").first().copy()\n",
      "/home/gpucce/Repos/index_encoders_eval_itserr/conda_venv/lib/python3.10/site-packages/trectools/trec_eval.py:311: FutureWarning: The default of observed=False is deprecated and will be changed to True in a future version of pandas. Pass observed=False to retain current behavior or observed=True to adopt the future default and silence this warning.\n",
      "  selection = selection[~selection[\"rel\"].isnull()].groupby(\"query\").first().copy()\n",
      "/home/gpucce/Repos/index_encoders_eval_itserr/conda_venv/lib/python3.10/site-packages/trectools/trec_eval.py:311: FutureWarning: The default of observed=False is deprecated and will be changed to True in a future version of pandas. Pass observed=False to retain current behavior or observed=True to adopt the future default and silence this warning.\n",
      "  selection = selection[~selection[\"rel\"].isnull()].groupby(\"query\").first().copy()\n"
     ]
    }
   ],
   "source": [
    "results = {}\n",
    "for pred, qrel in zip(predictions, references):\n",
    "    metric = evaluate.load(\"trec_eval\")\n",
    "    metric.add(predictions=pred, references=qrel)\n",
    "    scores = metric.compute()\n",
    "    run_name = scores.pop(\"runid\")\n",
    "    results[run_name] = scores\n",
    "results = pd.DataFrame.from_dict(results)\n",
    "results.to_csv(\"results.csv\", index=True, sep=\"\\t\")\n",
    "results.to_excel(\"results.xlsx\", index=True)"
   ]
  },
  {
   "cell_type": "code",
   "execution_count": null,
   "id": "cd4f7eb0",
   "metadata": {},
   "outputs": [],
   "source": [
    "finetuned_model_args = [\n",
    "    {\"model_type\": \"roberta\", \"model_name\": \"models/SimCSE25/simcse_sphilberta_model\"},\n",
    "    {\"model_type\": \"roberta\", \"model_name\": \"models/SimCSE21/simcse_sphilberta_model\"},\n",
    "]\n",
    "\n",
    "finetuned_experiments = list(itertools.product(langs, splits, settings, finetuned_model_args))\n",
    "finetuned_predictions, finetuned_references = run_experiments(finetuned_experiments)"
   ]
  },
  {
   "cell_type": "code",
   "execution_count": null,
   "id": "2645d41e",
   "metadata": {},
   "outputs": [],
   "source": [
    "finetuned_results = {}\n",
    "for pred, qrel in zip(finetuned_predictions, finetuned_references):\n",
    "    metric = evaluate.load(\"trec_eval\")\n",
    "    metric.add(predictions=pred, references=qrel)\n",
    "    scores = metric.compute()\n",
    "    run_name = scores.pop(\"runid\")\n",
    "    finetuned_results[run_name] = scores\n",
    "finetuned_results = pd.DataFrame.from_dict(finetuned_results)\n",
    "finetuned_results.to_csv(\"finetuned_results.csv\", index=True, sep=\"\\t\")\n",
    "finetuned_results.to_excel(\"finetuned_results.xlsx\", index=True)"
   ]
  }
 ],
 "metadata": {
  "kernelspec": {
   "display_name": "Python 3",
   "language": "python",
   "name": "python3"
  },
  "language_info": {
   "codemirror_mode": {
    "name": "ipython",
    "version": 3
   },
   "file_extension": ".py",
   "mimetype": "text/x-python",
   "name": "python",
   "nbconvert_exporter": "python",
   "pygments_lexer": "ipython3",
   "version": "3.10.17"
  }
 },
 "nbformat": 4,
 "nbformat_minor": 5
}
