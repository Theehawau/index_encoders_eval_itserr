{
 "cells": [
  {
   "cell_type": "code",
   "execution_count": 24,
   "id": "79bf9eef",
   "metadata": {},
   "outputs": [],
   "source": [
    "import pandas as pd\n",
    "import os"
   ]
  },
  {
   "cell_type": "code",
   "execution_count": 25,
   "id": "e2032e49",
   "metadata": {},
   "outputs": [],
   "source": [
    "results = pd.read_csv(\"results.csv\", index_col=0, sep=\"\\t\")\n",
    "finetuned_results = pd.read_csv(\"finetuned_results.csv\", index_col=0, sep=\"\\t\")"
   ]
  },
  {
   "cell_type": "code",
   "execution_count": 26,
   "id": "0041cd13",
   "metadata": {},
   "outputs": [],
   "source": [
    "# make table good looking in latex\n",
    "t_results = results.T.copy()\n",
    "for idx, i in enumerate([\"lang\", \"split\", \"setting\", \"author\", \"model\"]):\n",
    "    newcol = []\n",
    "    for j in t_results.index.str.split(\"_\"):\n",
    "        newcol.append(j[idx])\n",
    "    t_results[i] = newcol\n",
    "t_results = t_results.reset_index(drop=True).set_index([\"lang\", \"split\", \"setting\", \"model\"])\n",
    "t_results = t_results.drop(\"author\", axis=1)\n",
    "t_results.columns = [\"\\\\rotatebox{{90}}{{{col_name}}}\".format(col_name=col.replace(\"_\", \"-\")) for col in t_results.columns]\n",
    "t_results = t_results.loc[:, ~t_results.columns.str.contains(\"num\")]\n",
    "col_format = \"l\" * 4 + \"c\" * (len(t_results.columns))\n",
    "col_format = col_format[:-18] + \"|\" + col_format[-18:-9] + \"|\" + col_format[-9:]  # Add vertical line before the last 8 columns\n",
    "formatters = {\n",
    "        **{\n",
    "            i: lambda x: f\"{x:.2f}\" for i in t_results.columns if \"P@\" not in i and \"NDCG\" not in i\n",
    "            },\n",
    "        **{\n",
    "            i: lambda x: \"\\gradient{\" + f\"{x:.2f}\" + \"}\"\n",
    "            for i in t_results.columns if \"P@\" in i or \"map\" in i or \"recip-rank\" in i\n",
    "            or \"bpref\" in i or \"Rprec\" in i\n",
    "            },\n",
    "        **{\n",
    "            i: lambda x: r\"\\newgradient{\" + f\"{x:.2f}\" + \"}\"\n",
    "            for i in t_results.columns if \"NDCG\" in i\n",
    "            },\n",
    "    }\n",
    "\n",
    "def save_to_latex(results, file_name, col_format, formatters):\n",
    "    latex_str = results.to_latex(\n",
    "        index=True,\n",
    "        float_format=\"%.3f\",\n",
    "        column_format=col_format,\n",
    "        formatters=formatters,\n",
    "    )\n",
    "    latex_str = (latex_str.replace(r'\\toprule', '').replace(\"cline\", \"cmidrule\"))\n",
    "    lines = latex_str.split(\"\\n\")\n",
    "    new_lines = []\n",
    "    for idx, line in enumerate(lines[:-1]):\n",
    "        if \"rule\" in line:\n",
    "            if \"rule\" in lines[idx + 1]:\n",
    "                continue\n",
    "        if len(line.split(\"\\cmidrule\")) > 1:\n",
    "            line = \"\\cmidrule\" + line.split('\\cmidrule')[1]\n",
    "            line = line.strip()\n",
    "        new_lines.append(line)\n",
    "    latex_str = \"\\n\".join(new_lines)\n",
    "\n",
    "    os.makedirs(\"tables\", exist_ok=True)\n",
    "    with open(f\"tables/{file_name}\", \"w\") as f:\n",
    "        f.write(latex_str)\n",
    "\n",
    "save_to_latex(t_results, \"results.tex\", col_format, formatters)"
   ]
  },
  {
   "cell_type": "code",
   "execution_count": null,
   "id": "74e029c3",
   "metadata": {},
   "outputs": [],
   "source": [
    "col_to_keep = [\"{map\", \"recip-rank\", \"P@5}\", \"P@10}\", \"NDCG@5}\", \"NDCG@10}\"]\n",
    "col_to_keep = [i for i in t_results.columns if any(j in i for j in col_to_keep)]\n",
    "lang_col_format = \"l\" * 3 + \"c\" * (len(col_to_keep))\n",
    "latin_pretrained_results = t_results.loc[(\"latin\"), col_to_keep]\n",
    "save_to_latex(latin_pretrained_results, \"latin_pretrained_results.tex\", lang_col_format, formatters)\n",
    "greek_pretrained_results = t_results.loc[\"greek\", col_to_keep]\n",
    "save_to_latex(greek_pretrained_results, \"greek_pretrained_results.tex\", lang_col_format, formatters)\n",
    "latin_greek_pretrained_results = t_results.loc[(\"latin+greek\"), col_to_keep]\n",
    "save_to_latex(latin_greek_pretrained_results, \"latin_greek_pretrained_results.tex\", lang_col_format, formatters)\n",
    "greek_latin_pretrained_results = t_results.loc[(\"greek+latin\"), col_to_keep]\n",
    "save_to_latex(greek_latin_pretrained_results, \"greek_latin_pretrained_results.tex\", lang_col_format, formatters)\n",
    "multilingual_pretrained_results = pd.concat([t_results.loc[(\"latin+greek\"), col_to_keep], t_results.loc[(\"greek+latin\"), col_to_keep]], axis=1)\n",
    "save_to_latex(multilingual_pretrained_results, \"multilingual_pretrained_results.tex\", lang_col_format + lang_col_format[3:], formatters)"
   ]
  },
  {
   "cell_type": "code",
   "execution_count": 28,
   "id": "aedcaa30",
   "metadata": {},
   "outputs": [],
   "source": [
    "t_finetuned_results = finetuned_results.T.copy()\n",
    "for idx, i in enumerate([\"lang\", \"split\", \"setting\", \"author\", \"model\"]):\n",
    "    newcol = []\n",
    "    for j in t_finetuned_results.index.str.split(\"_\"):\n",
    "        newcol.append(j[idx])\n",
    "    t_finetuned_results[i] = newcol\n",
    "t_finetuned_results = t_finetuned_results.reset_index(drop=True).set_index([\"lang\", \"split\", \"setting\", \"model\"])\n",
    "t_finetuned_results = t_finetuned_results.drop(\"author\", axis=1)\n",
    "t_finetuned_results.columns = [\"\\\\rotatebox{{90}}{{{col_name}}}\".format(col_name=col.replace(\"_\", \"-\")) for col in t_finetuned_results.columns]\n",
    "\n",
    "t_finetuned_results = t_finetuned_results.loc[:, ~t_finetuned_results.columns.str.contains(\"num\")]\n",
    "col_format = \"l\" * 4 + \"c\" * (len(t_finetuned_results.columns))\n",
    "col_format = col_format[:-18] + \"|\" + col_format[-18:-9] + \"|\" + col_format[-9:]  # Add vertical line before the last 8 columns\n",
    "save_to_latex(t_finetuned_results, \"finetuned_results.tex\", col_format=col_format, formatters=formatters)\n",
    "# t_finetuned_results"
   ]
  },
  {
   "cell_type": "code",
   "execution_count": 29,
   "id": "41c0b8a0",
   "metadata": {},
   "outputs": [],
   "source": [
    "save_to_latex(\n",
    "    t_finetuned_results.loc[:, col_to_keep],\n",
    "    \"selected_finetuned_results.tex\",\n",
    "    col_format=\"l\" * 4 + \"c\" * len(col_to_keep),\n",
    "    formatters=formatters\n",
    ")"
   ]
  },
  {
   "cell_type": "code",
   "execution_count": null,
   "id": "d6227ad2",
   "metadata": {},
   "outputs": [],
   "source": [
    "latin_finetuned_results = t_finetuned_results.loc[(\"latin\"), col_to_keep]\n",
    "save_to_latex(latin_finetuned_results, \"latin_finetuned_results.tex\", lang_col_format, formatters)\n",
    "greek_finetuned_results = t_finetuned_results.loc[\"greek\", col_to_keep]\n",
    "save_to_latex(greek_finetuned_results, \"greek_finetuned_results.tex\", lang_col_format, formatters)\n",
    "latin_greek_finetuned_results = t_finetuned_results.loc[(\"latin+greek\"), col_to_keep]\n",
    "save_to_latex(latin_greek_finetuned_results, \"latin_greek_finetuned_results.tex\", lang_col_format, formatters)\n",
    "greek_latin_finetuned_results = t_finetuned_results.loc[(\"greek+latin\"), col_to_keep]\n",
    "save_to_latex(greek_latin_finetuned_results, \"greek_latin_finetuned_results.tex\", lang_col_format, formatters)\n",
    "multilingual_finetuned_results = pd.concat([t_finetuned_results.loc[(\"latin+greek\"), col_to_keep], t_finetuned_results.loc[(\"greek+latin\"), col_to_keep]], axis=1)\n",
    "save_to_latex(multilingual_finetuned_results, \"multilingual_finetuned_results.tex\", lang_col_format + lang_col_format[3:], formatters)"
   ]
  },
  {
   "cell_type": "code",
   "execution_count": 37,
   "id": "6c7d3154",
   "metadata": {},
   "outputs": [],
   "source": [
    "arranged_finetuned_results = pd.concat([\n",
    "    pd.concat([latin_finetuned_results, greek_finetuned_results], axis=1),\n",
    "    pd.concat([latin_greek_finetuned_results, greek_latin_finetuned_results], axis=1),\n",
    "], axis=0)\n",
    "save_to_latex(arranged_finetuned_results, \"arranged_finetuned_results.tex\", lang_col_format + lang_col_format[3:], formatters)"
   ]
  }
 ],
 "metadata": {
  "kernelspec": {
   "display_name": "Python 3",
   "language": "python",
   "name": "python3"
  },
  "language_info": {
   "codemirror_mode": {
    "name": "ipython",
    "version": 3
   },
   "file_extension": ".py",
   "mimetype": "text/x-python",
   "name": "python",
   "nbconvert_exporter": "python",
   "pygments_lexer": "ipython3",
   "version": "3.10.17"
  }
 },
 "nbformat": 4,
 "nbformat_minor": 5
}
